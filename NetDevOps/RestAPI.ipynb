{
 "cells": [
  {
   "cell_type": "markdown",
   "metadata": {},
   "source": [
    "# Cisco DevNet - RestAPI\n",
    "\n",
    "## 什么是 API ？\n",
    "\n",
    "\n",
    "![API](assert/api.png)\n",
    "\n",
    "## 0. 模拟一个API交互"
   ]
  },
  {
   "cell_type": "code",
   "execution_count": 4,
   "metadata": {},
   "outputs": [
    {
     "name": "stdout",
     "output_type": "stream",
     "text": [
      "我的地址是：yeslab.com\n",
      "我能提供的服务是：route\n"
     ]
    }
   ],
   "source": [
    "import time\n",
    "\n",
    "class SERVER():\n",
    "    def __init__(self):\n",
    "        self.url = 'yeslab.com'\n",
    "        self.data = {'route':['to_192.168.0.0', 'to_172.18.0.0']}\n",
    "        self.keys = list(self.data.keys())\n",
    "        self.announce()\n",
    "        \n",
    "    def announce(self):\n",
    "        print(\"我的地址是：{}\".format(self.url))\n",
    "        print(\"我能提供的服务是：{}\".format(self.keys[0]))\n",
    "        \n",
    "    def response(self, receive):\n",
    "        msg = receive()\n",
    "        print(\"【SERVER】API请求处理中。。。\")\n",
    "        time.sleep(2)\n",
    "        if msg == self.url + '/' + self.keys[0]:\n",
    "            return self.data['route']\n",
    "        \n",
    "server = SERVER()"
   ]
  },
  {
   "cell_type": "code",
   "execution_count": 5,
   "metadata": {},
   "outputs": [
    {
     "name": "stdout",
     "output_type": "stream",
     "text": [
      "【CLIENT】API请求发送中。。。\n",
      "【SERVER】API请求处理中。。。\n",
      "['to_192.168.0.0', 'to_172.18.0.0']\n"
     ]
    }
   ],
   "source": [
    "@server.response\n",
    "def client_send():\n",
    "    print(\"【CLIENT】API请求发送中。。。\")\n",
    "    time.sleep(2)\n",
    "    return \"yeslab.com/route\"\n",
    "\n",
    "print(client_send)"
   ]
  },
  {
   "cell_type": "markdown",
   "metadata": {},
   "source": [
    "![API2](assert/api2.png)\n",
    "\n",
    "* REST is \"just another use for the HTTP Protocol.\" A REST API service sends all requests and responses over TCP/TLS connections using text.\n",
    "* REST is an API framework built on HTTP, and the interface points are often for web services. When you combine REST and API, you see a simple service interface that enables applications or people to use the HTTP protocol to request objects or information.\n",
    "\n",
    "![HTTP](assert/http.png)\n",
    "\n",
    "### HTTP 请求方法\n",
    "* POST 新建\n",
    "* GET 读取\n",
    "* PUT 更新\n",
    "* PATCH 更新\n",
    "* DELETE 删除\n",
    "\n",
    "![restapi](assert/restapi.png)\n",
    "\n",
    "![url](assert/url.png)\n",
    "\n",
    "## APIC-EM APIs\n",
    "https://github.com/CiscoDevNet/apicem-apis-with-python-sample-codes\n",
    "\n",
    "### 1. 输入远端设备信息"
   ]
  },
  {
   "cell_type": "code",
   "execution_count": 6,
   "metadata": {},
   "outputs": [],
   "source": [
    "import requests\n",
    "import json\n",
    "from helper import apicem\n",
    "\n",
    "requests.packages.urllib3.disable_warnings()\n",
    "\n",
    "apicem_ip = \"sandboxapicem.cisco.com\"\n",
    "username = \"devnetuser\"\n",
    "password = \"Cisco123!\"\n",
    "version = \"v1\""
   ]
  },
  {
   "cell_type": "markdown",
   "metadata": {},
   "source": [
    "### 2. 拿到访问授权"
   ]
  },
  {
   "cell_type": "code",
   "execution_count": 8,
   "metadata": {},
   "outputs": [],
   "source": [
    "r_json = {\n",
    "  \"username\": username,\n",
    "  \"password\": password\n",
    "}\n",
    "\n",
    "post_url = \"https://\" + apicem_ip + \"/api/\" + version + \"/ticket\"\n",
    "\n",
    "headers = {'content-type':'application/json'}\n",
    "\n",
    "resp = requests.post(post_url, json.dumps(r_json), headers=headers, verify=False)"
   ]
  },
  {
   "cell_type": "code",
   "execution_count": 11,
   "metadata": {},
   "outputs": [
    {
     "data": {
      "text/plain": [
       "200"
      ]
     },
     "execution_count": 11,
     "metadata": {},
     "output_type": "execute_result"
    }
   ],
   "source": [
    "resp.status_code"
   ]
  },
  {
   "cell_type": "code",
   "execution_count": 12,
   "metadata": {},
   "outputs": [
    {
     "data": {
      "text/plain": [
       "{'response': {'serviceTicket': 'ST-32823-zg5wjHm2LR1xvVqY5CFI-cas',\n",
       "  'idleTimeout': 1800,\n",
       "  'sessionTimeout': 21600},\n",
       " 'version': '1.0'}"
      ]
     },
     "execution_count": 12,
     "metadata": {},
     "output_type": "execute_result"
    }
   ],
   "source": [
    "resp.json()"
   ]
  },
  {
   "cell_type": "markdown",
   "metadata": {},
   "source": [
    "### 3. GET 查看用户信息"
   ]
  },
  {
   "cell_type": "code",
   "execution_count": 13,
   "metadata": {},
   "outputs": [
    {
     "name": "stdout",
     "output_type": "stream",
     "text": [
      "\n",
      "Executing GET 'https://sandboxapicem.cisco.com/api/v1/user'\n",
      "\n",
      "GET 'user' Status:  200 \n",
      "\n"
     ]
    }
   ],
   "source": [
    "user_resp = apicem.get(apicem_ip, version, username, password, api='user')"
   ]
  },
  {
   "cell_type": "code",
   "execution_count": 23,
   "metadata": {},
   "outputs": [
    {
     "data": {
      "text/plain": [
       "{'response': [{'username': 'devnetuser',\n",
       "   'authorization': [{'scope': 'ALL', 'role': 'ROLE_POLICY_ADMIN'}],\n",
       "   'authSource': 'internal'}],\n",
       " 'version': '1.0'}"
      ]
     },
     "execution_count": 23,
     "metadata": {},
     "output_type": "execute_result"
    }
   ],
   "source": [
    "user_resp.json()"
   ]
  },
  {
   "cell_type": "markdown",
   "metadata": {},
   "source": [
    "### 3.1 GET 角色列表失败"
   ]
  },
  {
   "cell_type": "code",
   "execution_count": 24,
   "metadata": {},
   "outputs": [
    {
     "name": "stdout",
     "output_type": "stream",
     "text": [
      "\n",
      "Executing GET 'https://sandboxapicem.cisco.com/api/v1/user/role'\n",
      "\n",
      "GET 'user/role' Status:  403 \n",
      "\n"
     ]
    },
    {
     "data": {
      "text/plain": [
       "{'response': {'errorCode': 'RBAC',\n",
       "  'message': 'You do not have permissions to access this resource',\n",
       "  'detail': 'You do not have permissions to access this resource'},\n",
       " 'version': '1.0'}"
      ]
     },
     "execution_count": 24,
     "metadata": {},
     "output_type": "execute_result"
    }
   ],
   "source": [
    "role_resp = apicem.get(apicem_ip, version, username, password, api='user/role')\n",
    "role_resp.json()"
   ]
  },
  {
   "cell_type": "markdown",
   "metadata": {},
   "source": [
    "### 4. POST 添加用户失败"
   ]
  },
  {
   "cell_type": "code",
   "execution_count": 26,
   "metadata": {},
   "outputs": [
    {
     "name": "stdout",
     "output_type": "stream",
     "text": [
      "\n",
      "Executing POST 'https://sandboxapicem.cisco.com/api/v1/user'\n",
      "\n",
      "POST 'user' Status:  403 \n",
      "\n"
     ]
    }
   ],
   "source": [
    "add_user_data = {\n",
    "  \"username\": \"yeslab123\",\n",
    "  \"password\": \"yeslab456!\",\n",
    "  \"authSource\": \"internal\",\n",
    "  \"authorization\": [\n",
    "    {\n",
    "      \"scope\": \"ALL\",\n",
    "      \"role\": \"ROLE_POLICY_ADMIN\"\n",
    "    }\n",
    "  ],\n",
    "  \"oldPassword\": \"yeslab456!\"\n",
    "}\n",
    "\n",
    "post_user_resp = apicem.post(apicem_ip, version, username, password, api='user', data=add_user_data)"
   ]
  },
  {
   "cell_type": "code",
   "execution_count": 28,
   "metadata": {},
   "outputs": [
    {
     "data": {
      "text/plain": [
       "{'response': {'errorCode': 'RBAC',\n",
       "  'message': 'You do not have permissions to access this resource',\n",
       "  'detail': 'You do not have permissions to access this resource'},\n",
       " 'version': '1.0'}"
      ]
     },
     "execution_count": 28,
     "metadata": {},
     "output_type": "execute_result"
    }
   ],
   "source": [
    "post_user_resp.json()"
   ]
  },
  {
   "cell_type": "markdown",
   "metadata": {},
   "source": [
    "### 5. POST 添加策略标签成功"
   ]
  },
  {
   "cell_type": "code",
   "execution_count": 35,
   "metadata": {},
   "outputs": [
    {
     "name": "stdout",
     "output_type": "stream",
     "text": [
      "\n",
      "Executing POST 'https://sandboxapicem.cisco.com/api/v1/policy/tag'\n",
      "\n",
      "POST 'policy/tag' Status:  202 \n",
      "\n"
     ]
    }
   ],
   "source": [
    "policy_tag = {\n",
    "  \"policyTag\": \"yeslab_hello\"\n",
    "}\n",
    "\n",
    "post_tag_resp = apicem.post(apicem_ip, version, username, password, api='policy/tag', data=policy_tag)"
   ]
  },
  {
   "cell_type": "code",
   "execution_count": 36,
   "metadata": {},
   "outputs": [
    {
     "name": "stdout",
     "output_type": "stream",
     "text": [
      "\n",
      "Executing GET 'https://sandboxapicem.cisco.com/api/v1/policy/tag'\n",
      "\n",
      "GET 'policy/tag' Status:  200 \n",
      "\n"
     ]
    },
    {
     "data": {
      "text/plain": [
       "{'response': [{'policyTag': 'YESLAB'},\n",
       "  {'policyTag': 'luisga'},\n",
       "  {'policyTag': 'yeslab_hello'},\n",
       "  {'policyTag': 'Vijoy_Added_this'},\n",
       "  {'policyTag': 'Student_Added_This'},\n",
       "  {'policyTag': 'lala'},\n",
       "  {'policyTag': 'UTCN'},\n",
       "  {'policyTag': 'Bryan_gonz'},\n",
       "  {'policyTag': 'vanakkad'},\n",
       "  {'policyTag': 'mahovich'},\n",
       "  {'policyTag': 'GMR'},\n",
       "  {'policyTag': 'RemoteSite'},\n",
       "  {'policyTag': 'lpj'},\n",
       "  {'policyTag': 'devent_tag'},\n",
       "  {'policyTag': 'RemoteSite1'},\n",
       "  {'policyTag': 'duno'},\n",
       "  {'policyTag': 'test'},\n",
       "  {'policyTag': 'TheBigNetwork'},\n",
       "  {'policyTag': 'new_policy_tag'}],\n",
       " 'version': '1.0'}"
      ]
     },
     "execution_count": 36,
     "metadata": {},
     "output_type": "execute_result"
    }
   ],
   "source": [
    "look_tag_resp = apicem.get(apicem_ip, version, username, password, api='policy/tag')\n",
    "look_tag_resp.json()"
   ]
  },
  {
   "cell_type": "markdown",
   "metadata": {},
   "source": [
    "### 6. DELETE 删除标签"
   ]
  },
  {
   "cell_type": "code",
   "execution_count": 39,
   "metadata": {},
   "outputs": [
    {
     "name": "stdout",
     "output_type": "stream",
     "text": [
      "\n",
      "Executing DELETE 'https://sandboxapicem.cisco.com/api/v1/policy/tag'\n",
      "\n",
      "DELETE 'policy/tag' Status:  202 \n",
      "\n",
      "\n",
      "Executing GET 'https://sandboxapicem.cisco.com/api/v1/policy/tag'\n",
      "\n",
      "GET 'policy/tag' Status:  200 \n",
      "\n"
     ]
    },
    {
     "data": {
      "text/plain": [
       "{'response': [{'policyTag': 'YESLAB'},\n",
       "  {'policyTag': 'luisga'},\n",
       "  {'policyTag': 'Vijoy_Added_this'},\n",
       "  {'policyTag': 'Student_Added_This'},\n",
       "  {'policyTag': 'lala'},\n",
       "  {'policyTag': 'UTCN'},\n",
       "  {'policyTag': 'Bryan_gonz'},\n",
       "  {'policyTag': 'vanakkad'},\n",
       "  {'policyTag': 'mahovich'},\n",
       "  {'policyTag': 'RemoteSite'},\n",
       "  {'policyTag': 'lpj'},\n",
       "  {'policyTag': 'devent_tag'},\n",
       "  {'policyTag': 'RemoteSite1'},\n",
       "  {'policyTag': 'duno'},\n",
       "  {'policyTag': 'test'},\n",
       "  {'policyTag': 'TheBigNetwork'},\n",
       "  {'policyTag': 'new_policy_tag'}],\n",
       " 'version': '1.0'}"
      ]
     },
     "execution_count": 39,
     "metadata": {},
     "output_type": "execute_result"
    }
   ],
   "source": [
    "policy_tag = {\n",
    "  \"policyTag\": \"GMR\"\n",
    "}\n",
    "\n",
    "delete_tag_resp = apicem.delete(apicem_ip, version, username,password, api='policy/tag', params=policy_tag)\n",
    "\n",
    "look_tag_resp = apicem.get(apicem_ip, version, username, password, api='policy/tag')\n",
    "look_tag_resp.json()"
   ]
  }
 ],
 "metadata": {
  "kernelspec": {
   "display_name": "Python 3",
   "language": "python",
   "name": "python3"
  },
  "language_info": {
   "codemirror_mode": {
    "name": "ipython",
    "version": 3
   },
   "file_extension": ".py",
   "mimetype": "text/x-python",
   "name": "python",
   "nbconvert_exporter": "python",
   "pygments_lexer": "ipython3",
   "version": "3.7.4"
  }
 },
 "nbformat": 4,
 "nbformat_minor": 2
}
