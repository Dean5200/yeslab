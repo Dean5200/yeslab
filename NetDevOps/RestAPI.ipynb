{
 "cells": [
  {
   "cell_type": "markdown",
   "metadata": {},
   "source": [
    "# Cisco DevNet - RestAPI\n",
    "\n",
    "* 什么是 API ？\n",
    "\n",
    "\n",
    "![API](assert/api.png)"
   ]
  },
  {
   "cell_type": "code",
   "execution_count": 1,
   "metadata": {},
   "outputs": [
    {
     "name": "stdout",
     "output_type": "stream",
     "text": [
      "My url is yeslab.com\n",
      "My service is route\n"
     ]
    }
   ],
   "source": [
    "import time\n",
    "\n",
    "class SERVER():\n",
    "    def __init__(self):\n",
    "        self.url = 'yeslab.com'\n",
    "        self.data = { 'route':['to_192.168.1.0', 'to_172.21.29.0', 'to_10.123.11.0']}\n",
    "        self.keys = list(self.data.keys())\n",
    "        self.announce()\n",
    "        \n",
    "    def announce(self):\n",
    "        print(\"My url is {}\".format(self.url))\n",
    "        print(\"My service is {}\".format(self.keys[0]))\n",
    "        \n",
    "    def response(self, receive):\n",
    "        msg = receive()\n",
    "        print(\"【SERVER】API请求处理中...\")\n",
    "        time.sleep(2)\n",
    "        if msg == self.url + '/' + self.keys[0]:\n",
    "            return self.data['route']\n",
    "    \n",
    "server = SERVER()"
   ]
  },
  {
   "cell_type": "code",
   "execution_count": 2,
   "metadata": {},
   "outputs": [
    {
     "name": "stdout",
     "output_type": "stream",
     "text": [
      "【CLIENT】API请求发送中...\n",
      "【SERVER】API请求处理中...\n",
      "['to_192.168.1.0', 'to_172.21.29.0', 'to_10.123.11.0']\n"
     ]
    }
   ],
   "source": [
    "@server.response\n",
    "def client_send():\n",
    "    print(\"【CLIENT】API请求发送中...\")\n",
    "    time.sleep(2)\n",
    "    return \"yeslab.com/route\"\n",
    "\n",
    "print(client_send)"
   ]
  },
  {
   "cell_type": "markdown",
   "metadata": {},
   "source": [
    "![API2](assert/api2.png)\n",
    "\n",
    "* REST is \"just another use for the HTTP Protocol.\" A REST API service sends all requests and responses over TCP/TLS connections using text.\n",
    "* REST is an API framework built on HTTP, and the interface points are often for web services. When you combine REST and API, you see a simple service interface that enables applications or people to use the HTTP protocol to request objects or information.\n",
    "\n",
    "![HTTP](assert/http.png)\n",
    "\n",
    "### HTTP 请求方法\n",
    "* POST 新建\n",
    "* GET 读取\n",
    "* PUT 更新\n",
    "* PATCH 更新\n",
    "* DELETE 删除\n",
    "\n",
    "![restapi](assert/restapi.png)\n",
    "\n",
    "![url](assert/url.png)\n",
    "\n",
    "## APIC-EM APIs\n",
    "https://github.com/CiscoDevNet/apicem-apis-with-python-sample-codes\n",
    "\n",
    "### 1. 输入远端设备信息"
   ]
  },
  {
   "cell_type": "code",
   "execution_count": 6,
   "metadata": {},
   "outputs": [],
   "source": [
    "import requests\n",
    "import json\n",
    "from helper import apicem\n",
    "\n",
    "requests.packages.urllib3.disable_warnings() # Disable warnings\n",
    "\n",
    "# APIC-EM IP, modify these parameters if you are using your own APIC-EM\n",
    "apicem_ip = \"sandboxapicem.cisco.com\"\n",
    "username = \"devnetuser\"\n",
    "password = \"Cisco123!\"\n",
    "version = \"v1\""
   ]
  },
  {
   "cell_type": "markdown",
   "metadata": {},
   "source": [
    "### 2. 拿到访问授权"
   ]
  },
  {
   "cell_type": "code",
   "execution_count": 7,
   "metadata": {
    "scrolled": true
   },
   "outputs": [
    {
     "name": "stdout",
     "output_type": "stream",
     "text": [
      "Request Status:  200\n",
      "\n",
      "Raw response from POST ticket request:\n",
      " {\"response\":{\"serviceTicket\":\"ST-31846-S0A1maMTNYfv5SduyoIc-cas\",\"idleTimeout\":1800,\"sessionTimeout\":21600},\"version\":\"1.0\"}\n",
      "\n",
      "Pretty print response:\n",
      " {\n",
      "    \"response\": {\n",
      "        \"serviceTicket\": \"ST-31846-S0A1maMTNYfv5SduyoIc-cas\",\n",
      "        \"idleTimeout\": 1800,\n",
      "        \"sessionTimeout\": 21600\n",
      "    },\n",
      "    \"version\": \"1.0\"\n",
      "}\n"
     ]
    }
   ],
   "source": [
    "# JSONhttps://sandboxapic.cisco.com/ input\n",
    "r_json = {\n",
    "    \"username\": username,\n",
    "    \"password\": password\n",
    "}\n",
    "\n",
    "# POST ticket API URL\n",
    "post_url = \"https://\"+apicem_ip+\"/api/\"+version+\"/ticket\"\n",
    "\n",
    "# All APIC-EM REST API request and response content type is JSON.\n",
    "headers = {'content-type': 'application/json'}\n",
    "\n",
    "# Make request and get response - \"resp\" is the response of this request\n",
    "resp = requests.post(post_url, json.dumps(r_json), headers=headers,verify=False)\n",
    "print (\"Request Status: \",resp.status_code)\n",
    "\n",
    "# Get the json-encoded content from response\n",
    "response_json = resp.json()\n",
    "print (\"\\nRaw response from POST ticket request:\\n\",resp.text)\n",
    "# Not that easy to read the raw response, so try the formatted print out\n",
    "\n",
    "# Pretty print the raw response\n",
    "print (\"\\nPretty print response:\\n\",json.dumps(response_json,indent=4))"
   ]
  },
  {
   "cell_type": "markdown",
   "metadata": {},
   "source": [
    "### 3. GET 查看用户信息"
   ]
  },
  {
   "cell_type": "code",
   "execution_count": 9,
   "metadata": {
    "scrolled": false
   },
   "outputs": [
    {
     "name": "stdout",
     "output_type": "stream",
     "text": [
      "\n",
      "Executing GET 'https://sandboxapicem.cisco.com/api/v1/user'\n",
      "\n",
      "GET 'user' Status:  200 \n",
      "\n",
      "{\n",
      "    \"response\": [\n",
      "        {\n",
      "            \"username\": \"devnetuser\",\n",
      "            \"authorization\": [\n",
      "                {\n",
      "                    \"scope\": \"ALL\",\n",
      "                    \"role\": \"ROLE_POLICY_ADMIN\"\n",
      "                }\n",
      "            ],\n",
      "            \"authSource\": \"internal\"\n",
      "        }\n",
      "    ],\n",
      "    \"version\": \"1.0\"\n",
      "} \n",
      "\n",
      "User 'devnetuser', role is the POLICY_ADMIN.\n"
     ]
    }
   ],
   "source": [
    "try:\n",
    "    resp = apicem.get(apicem_ip, version, username, password, api=\"user\")\n",
    "    response_json = resp.json() # Get the json-encoded content from response\n",
    "    print (json.dumps(response_json,indent=4),'\\n') # Convert \"response_json\" object to a JSON formatted string and print it out\n",
    "except:\n",
    "    print (\"Something wrong with GET /user request\")\n",
    "    sys.exit()\n",
    "\n",
    "# Parsing raw response to list out all users and their role\n",
    "for item in response_json[\"response\"]:\n",
    "    for item1 in item[\"authorization\"]:\n",
    "        print (\"User \\'%s\\', role is the %s.\"%(item[\"username\"],(item1[\"role\"])[5:]))"
   ]
  },
  {
   "cell_type": "markdown",
   "metadata": {},
   "source": [
    "### 3.1 GET 角色列表失败"
   ]
  },
  {
   "cell_type": "code",
   "execution_count": 10,
   "metadata": {},
   "outputs": [
    {
     "name": "stdout",
     "output_type": "stream",
     "text": [
      "\n",
      "Executing GET 'https://sandboxapicem.cisco.com/api/v1/user/user'\n",
      "\n",
      "GET 'user/user' Status:  401 \n",
      "\n",
      "{\n",
      "    \"response\": {\n",
      "        \"errorCode\": \"Unauthorized\",\n",
      "        \"message\": \"You do not have permissions to access this resource\",\n",
      "        \"detail\": \"User does not have sufficient privileges to access API\"\n",
      "    },\n",
      "    \"version\": \"1.0\"\n",
      "} \n",
      "\n"
     ]
    }
   ],
   "source": [
    "try:\n",
    "    resp = apicem.get(apicem_ip, version, username, password, api=\"user/user\")\n",
    "    response_json = resp.json() # Get the json-encoded content from response\n",
    "    print (json.dumps(response_json,indent=4),'\\n') # Convert \"response_json\" object to a JSON formatted string and print it out\n",
    "except:\n",
    "    print (\"Something wrong with GET /user request\")\n",
    "    sys.exit()"
   ]
  },
  {
   "cell_type": "markdown",
   "metadata": {},
   "source": [
    "### 4. POST 添加用户失败"
   ]
  },
  {
   "cell_type": "code",
   "execution_count": 11,
   "metadata": {},
   "outputs": [
    {
     "name": "stdout",
     "output_type": "stream",
     "text": [
      "\n",
      "Executing POST 'https://sandboxapicem.cisco.com/api/v1/user'\n",
      "\n",
      "POST 'user' Status:  403 \n",
      "\n"
     ]
    }
   ],
   "source": [
    "add_user_data = {\n",
    "                  \"username\": \"yeslab_coder\",\n",
    "                  \"password\": \"yeslab12345\",\n",
    "                  \"authSource\": \"internal\",\n",
    "                  \"authorization\": [\n",
    "                    {\n",
    "                      \"scope\": \"ALL\",\n",
    "                      \"role\": \"ROLE_POLICY_ADMIN\"\n",
    "                    }\n",
    "                  ],\n",
    "                  \"oldPassword\": \"yeslab12345\"\n",
    "                 }\n",
    "\n",
    "resp = apicem.post(apicem_ip, version, username, password, api=\"user\", data=add_user_data)"
   ]
  },
  {
   "cell_type": "markdown",
   "metadata": {},
   "source": [
    "### 5. POST 添加策略标签成功"
   ]
  },
  {
   "cell_type": "code",
   "execution_count": 34,
   "metadata": {},
   "outputs": [
    {
     "name": "stdout",
     "output_type": "stream",
     "text": [
      "\n",
      "Executing POST 'https://sandboxapicem.cisco.com/api/v1/policy/tag'\n",
      "\n",
      "POST 'policy/tag' Status:  202 \n",
      "\n"
     ]
    }
   ],
   "source": [
    "add_tag_data = {\"policyTag\": \"Yeslab\"}\n",
    "policy_resp = apicem.post(apicem_ip, version, username, password, api=\"policy/tag\", data=add_tag_data)"
   ]
  },
  {
   "cell_type": "code",
   "execution_count": 36,
   "metadata": {},
   "outputs": [
    {
     "name": "stdout",
     "output_type": "stream",
     "text": [
      "\n",
      "Executing GET 'https://sandboxapicem.cisco.com/api/v1/policy/tag'\n",
      "\n",
      "GET 'policy/tag' Status:  200 \n",
      "\n",
      "luisga\n",
      "Vijoy_Added_this\n",
      "Student_Added_This\n",
      "lala\n",
      "UTCN\n",
      "Bryan_gonz\n",
      "vanakkad\n",
      "mahovich\n",
      "GMR\n",
      "RemoteSite\n",
      "lpj\n",
      "devent_tag\n",
      "RemoteSite1\n",
      "duno\n",
      "test\n",
      "TheBigNetwork\n",
      "new_policy_tag\n"
     ]
    }
   ],
   "source": [
    "policy_tag_result = apicem.get(apicem_ip, version, username, password, api=\"policy/tag\")\n",
    "for tag in policy_tag_result.json()['response']:\n",
    "    print(tag['policyTag'])"
   ]
  },
  {
   "cell_type": "markdown",
   "metadata": {},
   "source": [
    "### 6. DELETE 删除不顺眼的标签"
   ]
  },
  {
   "cell_type": "code",
   "execution_count": 32,
   "metadata": {},
   "outputs": [
    {
     "name": "stdout",
     "output_type": "stream",
     "text": [
      "\n",
      "Executing DELETE 'https://sandboxapicem.cisco.com/api/v1/policy/tag'\n",
      "\n",
      "DELETE 'policy/tag' Status:  202 \n",
      "\n"
     ]
    }
   ],
   "source": [
    "del_tag_data = {\"policyTag\": \"GMR\"}\n",
    "policy_resp = apicem.delete(apicem_ip, version, username, password, api=\"policy/tag\", params=del_tag_data)"
   ]
  },
  {
   "cell_type": "code",
   "execution_count": 35,
   "metadata": {},
   "outputs": [
    {
     "name": "stdout",
     "output_type": "stream",
     "text": [
      "\n",
      "Executing GET 'https://sandboxapicem.cisco.com/api/v1/policy/tag'\n",
      "\n",
      "GET 'policy/tag' Status:  200 \n",
      "\n",
      "luisga\n",
      "Vijoy_Added_this\n",
      "Student_Added_This\n",
      "lala\n",
      "UTCN\n",
      "Bryan_gonz\n",
      "vanakkad\n",
      "mahovich\n",
      "GMR\n",
      "RemoteSite\n",
      "lpj\n",
      "devent_tag\n",
      "RemoteSite1\n",
      "duno\n",
      "test\n",
      "TheBigNetwork\n",
      "new_policy_tag\n"
     ]
    }
   ],
   "source": [
    "policy_tag_result = apicem.get(apicem_ip, version, username, password, api=\"policy/tag\")\n",
    "for tag in policy_tag_result.json()['response']:\n",
    "    print(tag['policyTag'])"
   ]
  },
  {
   "cell_type": "code",
   "execution_count": null,
   "metadata": {},
   "outputs": [],
   "source": []
  }
 ],
 "metadata": {
  "kernelspec": {
   "display_name": "Python 3",
   "language": "python",
   "name": "python3"
  },
  "language_info": {
   "codemirror_mode": {
    "name": "ipython",
    "version": 3
   },
   "file_extension": ".py",
   "mimetype": "text/x-python",
   "name": "python",
   "nbconvert_exporter": "python",
   "pygments_lexer": "ipython3",
   "version": "3.7.4"
  }
 },
 "nbformat": 4,
 "nbformat_minor": 2
}
