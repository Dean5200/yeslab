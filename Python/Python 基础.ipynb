{
 "cells": [
  {
   "cell_type": "markdown",
   "metadata": {},
   "source": [
    "# Python\n",
    "* 程序运行过程\n",
    " - 附加 CUDA 知识\n",
    "* 基本内容串讲\n",
    "* 文本处理\n",
    "* Jupyter notebook debug\n",
    "* 重复导入问题\n",
    "* if \\_\\_name_\\_ == \"\\_\\_main\\_\\_\""
   ]
  },
  {
   "cell_type": "markdown",
   "metadata": {},
   "source": [
    "### 四种基本数据结构（单体）\n",
    "* int\n",
    "* float\n",
    "* str\n",
    "* bool\n",
    "\n",
    "### 四种基本数据结构（数组）\n",
    "* list\n",
    "* tuple\n",
    "* dict\n",
    "* set\n",
    "\n",
    "### 三种逻辑判断\n",
    "* if elif else\n",
    "* for ... in ...\n",
    "* while ...\n",
    "\n",
    "### 输入与输出\n",
    "* input\n",
    "* print\n",
    "\n",
    "### 函数和类\n",
    "* def\n",
    "* class"
   ]
  },
  {
   "cell_type": "markdown",
   "metadata": {},
   "source": [
    "## 超市录入与查询\n",
    "* 录入与查询土豆\n",
    "* 注册自己的账号\n",
    "* 登入系统（检查用户名和密码）\n",
    "* 土豆的录入\n",
    "* 土豆的贩卖\n",
    "* 查询土豆的记录"
   ]
  },
  {
   "cell_type": "code",
   "execution_count": 13,
   "metadata": {},
   "outputs": [],
   "source": [
    "class potato_system():\n",
    "    def __init__(self, name, init_num):\n",
    "        self.potato_num = init_num\n",
    "        self.user_data = {}\n",
    "\n",
    "    def sign_up(self, username, password):\n",
    "        self.user_data[username] = password\n",
    "    \n",
    "    def sign_in(self, username, password):\n",
    "        if username not in self.user_data.keys():\n",
    "            return \"对不起，这个用户不存在，请重新登录！\"\n",
    "        elif self.user_data[username] != password:\n",
    "            return \"对不起，密码错误，请重新登录！\"\n",
    "        else:\n",
    "            return \"登录成功，{}欢迎您！\".format(username)\n",
    "    \n",
    "    def record(self, num):\n",
    "        self.potato_num += num\n",
    "        self._lookup()\n",
    "\n",
    "    def lookup(self):\n",
    "        self._lookup()\n",
    "    \n",
    "    def _lookup(self):\n",
    "        print(\"当前的土豆存量为：{}\".format(self.potato_num))\n",
    "    \n",
    "    def sell(self,num):\n",
    "        if self.potato_num < num:\n",
    "            print(\"土豆不够，无法贩卖！\")\n",
    "            return\n",
    "        else:\n",
    "            self.potato_num -= num\n",
    "            self._lookup()"
   ]
  },
  {
   "cell_type": "markdown",
   "metadata": {},
   "source": [
    "## 文本数据处理"
   ]
  },
  {
   "cell_type": "code",
   "execution_count": 13,
   "metadata": {},
   "outputs": [],
   "source": [
    "data_path = 'data/log'\n",
    "file = open(data_path)\n",
    "datas = file.readlines()\n",
    "for index in range(len(datas)):\n",
    "    datas[index] = datas[index][1:-1]"
   ]
  },
  {
   "cell_type": "markdown",
   "metadata": {},
   "source": [
    "### 只保留OSPF日志"
   ]
  },
  {
   "cell_type": "code",
   "execution_count": 22,
   "metadata": {},
   "outputs": [
    {
     "data": {
      "text/plain": [
       "['Jan 26 06:53:16: %OSPF-5-ADJCHG: Process 1, Nbr 110.79.135.33 on Vlan168 from LOADING to FULL, Loading Done',\n",
       " 'Jan 26 06:53:16: %OSPF-5-ADJCHG: Process 1, Nbr 110.79.135.33 on Vlan165 from LOADING to FULL, Loading Done',\n",
       " 'Jan 26 06:53:17: %OSPF-5-ADJCHG: Process 1, Nbr 110.79.135.33 on GigabitEthernet2/3 from LOADING to FULL, Loading Done',\n",
       " 'Jan 26 06:53:17: %OSPF-5-ADJCHG: Process 1, Nbr 60.135.202.220 on GigabitEthernet2/8 from LOADING to FULL, Loading Done',\n",
       " 'Jan 26 06:53:17: %OSPF-5-ADJCHG: Process 1, Nbr 110.79.134.230 on GigabitEthernet2/11 from LOADING to FULL, Loading Done',\n",
       " 'Jan 26 06:53:19: %OSPF-5-ADJCHG: Process 1, Nbr 110.79.134.249 on TenGigabitEthernet7/11 from LOADING to FULL, Loading Done',\n",
       " 'Jan 26 06:53:58: %OSPF-5-ADJCHG: Process 1, Nbr 60.135.202.220 on GigabitEthernet2/8 from FULL to DOWN, Neighbor Down: Dead timer expired',\n",
       " 'Jan 26 06:53:59: %OSPF-5-ADJCHG: Process 1, Nbr 110.79.134.249 on TenGigabitEthernet7/11 from FULL to DOWN, Neighbor Down: Dead timer expired',\n",
       " 'Jan 26 06:53:59: %OSPF-5-ADJCHG: Process 1, Nbr 110.79.134.230 on GigabitEthernet2/11 from FULL to DOWN, Neighbor Down: Dead timer expired',\n",
       " 'Jan 26 06:54:00: %OSPF-5-ADJCHG: Process 1, Nbr 110.79.135.33 on Vlan168 from FULL to DOWN, Neighbor Down: Dead timer expired',\n",
       " 'Jan 26 06:54:00: %OSPF-5-ADJCHG: Process 1, Nbr 110.79.135.33 on Vlan165 from FULL to DOWN, Neighbor Down: Dead timer expired',\n",
       " 'Jan 26 06:54:00: %OSPF-5-ADJCHG: Process 1, Nbr 110.79.135.33 on GigabitEthernet2/3 from FULL to DOWN, Neighbor Down: Dead timer expired',\n",
       " 'Jan 26 06:56:37: %OSPF-5-ADJCHG: Process 1, Nbr 110.112.32.37 on Port-channel1 from LOADING to FULL, Loading Done',\n",
       " 'Jan 26 06:56:37: %OSPF-5-ADJCHG: Process 1, Nbr 110.79.134.230 on Vlan142 from LOADING to FULL, Loading Done',\n",
       " 'Jan 26 06:56:37: %OSPF-5-ADJCHG: Process 1, Nbr 110.79.134.230 on GigabitEthernet2/11 from LOADING to FULL, Loading Done',\n",
       " 'Jan 26 06:56:37: %OSPF-5-ADJCHG: Process 1, Nbr 110.79.135.94 on TenGigabitEthernet7/3 from LOADING to FULL, Loading Done',\n",
       " 'Jan 26 06:56:37: %OSPF-5-ADJCHG: Process 1, Nbr 110.79.134.228 on TenGigabitEthernet7/2 from LOADING to FULL, Loading Done',\n",
       " 'Jan 26 06:56:37: %OSPF-5-ADJCHG: Process 1, Nbr 110.79.134.226 on Vlan120 from LOADING to FULL, Loading Done',\n",
       " 'Jan 26 06:56:37: %OSPF-5-ADJCHG: Process 1, Nbr 110.79.134.249 on TenGigabitEthernet7/11 from LOADING to FULL, Loading Done',\n",
       " 'Jan 26 06:56:37: %OSPF-5-ADJCHG: Process 1, Nbr 110.79.134.248 on TenGigabitEthernet7/10 from LOADING to FULL, Loading Done',\n",
       " 'Jan 26 06:56:37: %OSPF-5-ADJCHG: Process 1, Nbr 110.112.32.218 on TenGigabitEthernet3/1 from LOADING to FULL, Loading Done',\n",
       " 'Jan 26 06:56:37: %OSPF-5-ADJCHG: Process 1, Nbr 110.79.135.33 on Vlan165 from LOADING to FULL, Loading Done',\n",
       " 'Jan 26 06:56:37: %OSPF-5-ADJCHG: Process 1, Nbr 110.79.135.33 on GigabitEthernet2/3 from LOADING to FULL, Loading Done',\n",
       " 'Jan 26 06:56:37: %OSPF-5-ADJCHG: Process 1, Nbr 110.79.135.33 on Vlan168 from LOADING to FULL, Loading Done',\n",
       " 'Jan 26 06:56:37: %OSPF-5-ADJCHG: Process 1, Nbr 60.135.202.220 on GigabitEthernet2/8 from LOADING to FULL, Loading Done',\n",
       " 'Jan 26 06:56:38: %OSPF-5-ADJCHG: Process 1, Nbr 110.112.32.242 on TenGigabitEthernet4/3 from LOADING to FULL, Loading Done',\n",
       " 'Jan 26 06:56:38: %OSPF-5-ADJCHG: Process 1, Nbr 110.79.134.232 on Vlan134 from LOADING to FULL, Loading Done',\n",
       " 'Jan 26 06:56:38: %OSPF-5-ADJCHG: Process 1, Nbr 60.135.202.220 on Vlan144 from LOADING to FULL, Loading Done',\n",
       " 'Jan 26 06:56:38: %OSPF-5-ADJCHG: Process 1, Nbr 110.79.134.241 on Vlan135 from LOADING to FULL, Loading Done']"
      ]
     },
     "execution_count": 22,
     "metadata": {},
     "output_type": "execute_result"
    }
   ],
   "source": [
    "def ospf_log(datas):\n",
    "    OSPF_LOGS = []\n",
    "    for data in datas:\n",
    "        if '%OSPF' in data:\n",
    "            OSPF_LOGS.append(data)\n",
    "    return OSPF_LOGS\n",
    "\n",
    "OSPF_LOGS = ospf_log(datas)\n",
    "OSPF_LOGS"
   ]
  },
  {
   "cell_type": "markdown",
   "metadata": {},
   "source": [
    "### 灵活保留日志"
   ]
  },
  {
   "cell_type": "code",
   "execution_count": 26,
   "metadata": {},
   "outputs": [
    {
     "data": {
      "text/plain": [
       "['Jan 26 06:53:11: %SYS-6-LOGGINGHOST_STARTSTOP: Logging to host 110.186.35.237 Port 514 started - CLI initiated',\n",
       " 'Jan 26 06:53:10: %SYS-SPSTBY-3-LOGGER_FLUSHED: System was paused for 00:00:00 to ensure console debugging output.',\n",
       " 'Jan 26 06:58:32: %SYS-SP-3-LOGGER_FLUSHED: System was paused for 00:00:00 to ensure console debugging output.',\n",
       " 'Jan 26 07:00:53: %SYS-SPSTBY-3-LOGGER_FLUSHED: System was paused for 00:00:00 to ensure console debugging output']"
      ]
     },
     "execution_count": 26,
     "metadata": {},
     "output_type": "execute_result"
    }
   ],
   "source": [
    "def need_log(datas, char):\n",
    "    NEED_LOGS = []\n",
    "    for data in datas:\n",
    "        if char in data:\n",
    "            NEED_LOGS.append(data)\n",
    "    return NEED_LOGS\n",
    "\n",
    "NEED_LOGS = need_log(datas, '%SYS')\n",
    "NEED_LOGS"
   ]
  },
  {
   "cell_type": "markdown",
   "metadata": {},
   "source": [
    "### 日志分类"
   ]
  },
  {
   "cell_type": "code",
   "execution_count": 44,
   "metadata": {},
   "outputs": [],
   "source": [
    "def cla_log(datas):\n",
    "    logs = {}\n",
    "    for data in datas:\n",
    "        raw_key = data.split('%')[1].split('-')[0]\n",
    "        new_data = data.split('%')[0] + data.split('%')[1].split(':')[1]\n",
    "        if raw_key not in list(logs.keys()):\n",
    "            logs[raw_key] = [new_data]\n",
    "        else:\n",
    "            logs[raw_key].append(new_data)\n",
    "    return logs"
   ]
  },
  {
   "cell_type": "code",
   "execution_count": 45,
   "metadata": {},
   "outputs": [],
   "source": [
    "Logs = cla_log(datas)"
   ]
  },
  {
   "cell_type": "code",
   "execution_count": 46,
   "metadata": {},
   "outputs": [
    {
     "data": {
      "text/plain": [
       "dict_keys(['SYS', 'OIR', 'SNMP', 'C6KPWR', 'OSPF', 'BGP', 'PFREDUN', 'PFINIT', 'FABRIC', 'DIAG', 'HA_CONFIG_SYNC', 'RF'])"
      ]
     },
     "execution_count": 46,
     "metadata": {},
     "output_type": "execute_result"
    }
   ],
   "source": [
    "Logs.keys()"
   ]
  },
  {
   "cell_type": "code",
   "execution_count": 49,
   "metadata": {},
   "outputs": [
    {
     "data": {
      "text/plain": [
       "['Jan 26 06:53:16:  Process 1, Nbr 110.79.135.33 on Vlan168 from LOADING to FULL, Loading Done',\n",
       " 'Jan 26 06:53:16:  Process 1, Nbr 110.79.135.33 on Vlan165 from LOADING to FULL, Loading Done',\n",
       " 'Jan 26 06:53:17:  Process 1, Nbr 110.79.135.33 on GigabitEthernet2/3 from LOADING to FULL, Loading Done',\n",
       " 'Jan 26 06:53:17:  Process 1, Nbr 60.135.202.220 on GigabitEthernet2/8 from LOADING to FULL, Loading Done',\n",
       " 'Jan 26 06:53:17:  Process 1, Nbr 110.79.134.230 on GigabitEthernet2/11 from LOADING to FULL, Loading Done',\n",
       " 'Jan 26 06:53:19:  Process 1, Nbr 110.79.134.249 on TenGigabitEthernet7/11 from LOADING to FULL, Loading Done',\n",
       " 'Jan 26 06:53:58:  Process 1, Nbr 60.135.202.220 on GigabitEthernet2/8 from FULL to DOWN, Neighbor Down',\n",
       " 'Jan 26 06:53:59:  Process 1, Nbr 110.79.134.249 on TenGigabitEthernet7/11 from FULL to DOWN, Neighbor Down',\n",
       " 'Jan 26 06:53:59:  Process 1, Nbr 110.79.134.230 on GigabitEthernet2/11 from FULL to DOWN, Neighbor Down',\n",
       " 'Jan 26 06:54:00:  Process 1, Nbr 110.79.135.33 on Vlan168 from FULL to DOWN, Neighbor Down',\n",
       " 'Jan 26 06:54:00:  Process 1, Nbr 110.79.135.33 on Vlan165 from FULL to DOWN, Neighbor Down',\n",
       " 'Jan 26 06:54:00:  Process 1, Nbr 110.79.135.33 on GigabitEthernet2/3 from FULL to DOWN, Neighbor Down',\n",
       " 'Jan 26 06:56:37:  Process 1, Nbr 110.112.32.37 on Port-channel1 from LOADING to FULL, Loading Done',\n",
       " 'Jan 26 06:56:37:  Process 1, Nbr 110.79.134.230 on Vlan142 from LOADING to FULL, Loading Done',\n",
       " 'Jan 26 06:56:37:  Process 1, Nbr 110.79.134.230 on GigabitEthernet2/11 from LOADING to FULL, Loading Done',\n",
       " 'Jan 26 06:56:37:  Process 1, Nbr 110.79.135.94 on TenGigabitEthernet7/3 from LOADING to FULL, Loading Done',\n",
       " 'Jan 26 06:56:37:  Process 1, Nbr 110.79.134.228 on TenGigabitEthernet7/2 from LOADING to FULL, Loading Done',\n",
       " 'Jan 26 06:56:37:  Process 1, Nbr 110.79.134.226 on Vlan120 from LOADING to FULL, Loading Done',\n",
       " 'Jan 26 06:56:37:  Process 1, Nbr 110.79.134.249 on TenGigabitEthernet7/11 from LOADING to FULL, Loading Done',\n",
       " 'Jan 26 06:56:37:  Process 1, Nbr 110.79.134.248 on TenGigabitEthernet7/10 from LOADING to FULL, Loading Done',\n",
       " 'Jan 26 06:56:37:  Process 1, Nbr 110.112.32.218 on TenGigabitEthernet3/1 from LOADING to FULL, Loading Done',\n",
       " 'Jan 26 06:56:37:  Process 1, Nbr 110.79.135.33 on Vlan165 from LOADING to FULL, Loading Done',\n",
       " 'Jan 26 06:56:37:  Process 1, Nbr 110.79.135.33 on GigabitEthernet2/3 from LOADING to FULL, Loading Done',\n",
       " 'Jan 26 06:56:37:  Process 1, Nbr 110.79.135.33 on Vlan168 from LOADING to FULL, Loading Done',\n",
       " 'Jan 26 06:56:37:  Process 1, Nbr 60.135.202.220 on GigabitEthernet2/8 from LOADING to FULL, Loading Done',\n",
       " 'Jan 26 06:56:38:  Process 1, Nbr 110.112.32.242 on TenGigabitEthernet4/3 from LOADING to FULL, Loading Done',\n",
       " 'Jan 26 06:56:38:  Process 1, Nbr 110.79.134.232 on Vlan134 from LOADING to FULL, Loading Done',\n",
       " 'Jan 26 06:56:38:  Process 1, Nbr 60.135.202.220 on Vlan144 from LOADING to FULL, Loading Done',\n",
       " 'Jan 26 06:56:38:  Process 1, Nbr 110.79.134.241 on Vlan135 from LOADING to FULL, Loading Done']"
      ]
     },
     "execution_count": 49,
     "metadata": {},
     "output_type": "execute_result"
    }
   ],
   "source": [
    "Logs['OSPF']"
   ]
  },
  {
   "cell_type": "markdown",
   "metadata": {},
   "source": [
    "# 西游记\n",
    "\n",
    "### 作业\n",
    "* 去除\\u3000\\u3000\n",
    "* 处理\\n\n",
    "* 整个一章为一个列表，每一句变成列表的一个元素\n",
    "* 尝试处理全篇"
   ]
  },
  {
   "cell_type": "code",
   "execution_count": 1,
   "metadata": {},
   "outputs": [],
   "source": [
    "west_path = 'data/west'\n",
    "file = open(west_path)\n",
    "txts = file.readlines()"
   ]
  }
 ],
 "metadata": {
  "kernelspec": {
   "display_name": "Python 3",
   "language": "python",
   "name": "python3"
  },
  "language_info": {
   "codemirror_mode": {
    "name": "ipython",
    "version": 3
   },
   "file_extension": ".py",
   "mimetype": "text/x-python",
   "name": "python",
   "nbconvert_exporter": "python",
   "pygments_lexer": "ipython3",
   "version": "3.7.4"
  }
 },
 "nbformat": 4,
 "nbformat_minor": 2
}
