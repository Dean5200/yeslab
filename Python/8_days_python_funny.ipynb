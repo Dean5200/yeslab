{
 "cells": [
  {
   "cell_type": "markdown",
   "metadata": {},
   "source": [
    "# 课程宗旨：每天10分钟，8天愉快入门 Python 😀\n",
    "\n",
    "😁👲😂👩😄👨😊🧑😋👶😍🤰😘👨‍🔧😜🧀😝🎊🙃🚌😚🎀😏🚲😛❤\n",
    "\n",
    "## Day1 | 找到编程的感觉 🤣\n",
    "\n",
    "### 完成下列伪代码填空："
   ]
  },
  {
   "cell_type": "code",
   "execution_count": null,
   "metadata": {},
   "outputs": [],
   "source": [
    "(   )我有十个亿:\n",
    "    我要环游世界\n",
    "    我要买下Steam上所有的游戏\n",
    "    我要为孩子们建立一所学校\n",
    "我想好好学习\n",
    "\n",
    "A. 幻想 | B. 假如 | C. 不是"
   ]
  },
  {
   "cell_type": "code",
   "execution_count": null,
   "metadata": {},
   "outputs": [],
   "source": [
    "(   )所有的习题 in 书包里:\n",
    "    爱上它们！\n",
    "    做完它们！\n",
    "扔掉它们！\n",
    "\n",
    "A. 假如 | B. 找到 | C. 停止"
   ]
  },
  {
   "cell_type": "code",
   "execution_count": null,
   "metadata": {},
   "outputs": [],
   "source": [
    "【定义】 一个中二的梦(我，她，他):\n",
    "    虽然 (  ) 爱着 (  )\n",
    "    但是 (  ) 偷偷喜欢 (  )\n",
    "    如果 (  ) 不是飞翔的小鸟:\n",
    "        那么 (  ) 是一个圣人\n",
    "    又或许 (  ) 是绿色的青瓜:\n",
    "        那可能 (  ) 就是那个人\n",
    "    总之:\n",
    "        干就完了！\n",
    "    \n",
    "    结论 其实我什么也不懂\n",
    "    \n",
    "梦醒后的感受 = 开始做梦((  ),(  ),(  ))\n",
    "\n",
    "【输出】梦醒后的感受\n",
    "其实我什么也不懂"
   ]
  },
  {
   "cell_type": "markdown",
   "metadata": {},
   "source": [
    "## Day2 | 建立 Python 游乐场🎪\n",
    "\n",
    "* 开机指令要牢记\n",
    "* 分清是蓝还是绿\n",
    "* 变换【代码】与【标记】\n",
    "* 热键晓得 A B D\n",
    "* 蓝条 H 好仔细\n",
    "* 看完自己变上帝\n",
    "* 做错事情要Undo\n",
    "* 执行就像发消息\n",
    "* 注意内核别死机\n",
    "* 只要死机就重启\n",
    "* 时刻保存要留意\n",
    "* 在家写码有乐趣"
   ]
  },
  {
   "cell_type": "code",
   "execution_count": null,
   "metadata": {},
   "outputs": [],
   "source": [
    "# 这节课代码休息..."
   ]
  },
  {
   "cell_type": "markdown",
   "metadata": {},
   "source": [
    "## Day3 | Python 是个傻白甜💃\n",
    "### 学会五星神技能：input\n",
    "* 傻：她其实不懂你说啥\n",
    "* 白：她只会重复你的话\n",
    "* 甜：她不会不理你"
   ]
  },
  {
   "cell_type": "code",
   "execution_count": 1,
   "metadata": {},
   "outputs": [
    {
     "name": "stdout",
     "output_type": "stream",
     "text": [
      "我是吴亦凡\n"
     ]
    },
    {
     "data": {
      "text/plain": [
       "'我是吴亦凡'"
      ]
     },
     "execution_count": 1,
     "metadata": {},
     "output_type": "execute_result"
    }
   ],
   "source": [
    "input()"
   ]
  },
  {
   "cell_type": "code",
   "execution_count": 2,
   "metadata": {},
   "outputs": [
    {
     "name": "stdout",
     "output_type": "stream",
     "text": [
      "你是蔡徐坤吗？\n"
     ]
    },
    {
     "data": {
      "text/plain": [
       "'你是蔡徐坤吗？'"
      ]
     },
     "execution_count": 2,
     "metadata": {},
     "output_type": "execute_result"
    }
   ],
   "source": [
    "input()"
   ]
  },
  {
   "cell_type": "code",
   "execution_count": 3,
   "metadata": {},
   "outputs": [
    {
     "name": "stdout",
     "output_type": "stream",
     "text": [
      "你真坏\n"
     ]
    },
    {
     "data": {
      "text/plain": [
       "'你真坏'"
      ]
     },
     "execution_count": 3,
     "metadata": {},
     "output_type": "execute_result"
    }
   ],
   "source": [
    "input()"
   ]
  },
  {
   "cell_type": "code",
   "execution_count": 5,
   "metadata": {},
   "outputs": [
    {
     "name": "stdout",
     "output_type": "stream",
     "text": [
      "我的女神对我说：我喜欢你\n"
     ]
    },
    {
     "data": {
      "text/plain": [
       "'我喜欢你'"
      ]
     },
     "execution_count": 5,
     "metadata": {},
     "output_type": "execute_result"
    }
   ],
   "source": [
    "input('我的女神对我说：')"
   ]
  },
  {
   "cell_type": "markdown",
   "metadata": {},
   "source": [
    "### 高爆逆天无敌全屏技能：print"
   ]
  },
  {
   "cell_type": "code",
   "execution_count": 6,
   "metadata": {},
   "outputs": [
    {
     "name": "stdout",
     "output_type": "stream",
     "text": [
      "Hello World!\n",
      "武汉加油！湖北加油！中国加油！\n"
     ]
    }
   ],
   "source": [
    "# 我是个注释\n",
    "## 不是旁白君\n",
    "### 没错\n",
    "#### 你终于看到这个了\n",
    "##### 所有编程课都离不开的\n",
    "print(\"Hello World!\")\n",
    "\n",
    "######以及最真切的一句话#######\n",
    "print(\"武汉加油！湖北加油！中国加油！\")"
   ]
  },
  {
   "cell_type": "markdown",
   "metadata": {},
   "source": [
    "## Day4 | 遇到四个小妖🧜‍♂️\n",
    "* 阴特尔妖\n",
    "* 福劳特魂\n",
    "* 紫符蠢怪\n",
    "* 不二精"
   ]
  },
  {
   "cell_type": "code",
   "execution_count": 7,
   "metadata": {},
   "outputs": [
    {
     "name": "stdout",
     "output_type": "stream",
     "text": [
      "建立角色：我是超人\n",
      "游戏开始！\n"
     ]
    }
   ],
   "source": [
    "input('建立角色：')\n",
    "print('游戏开始！')"
   ]
  },
  {
   "cell_type": "code",
   "execution_count": 12,
   "metadata": {},
   "outputs": [],
   "source": [
    "# 来自深渊的阴特尔妖\n",
    "# 它们最怕名为“四象运算”的宝物\n",
    "a = 3\n",
    "#a += 1\n",
    "a = a + 1"
   ]
  },
  {
   "cell_type": "code",
   "execution_count": 21,
   "metadata": {},
   "outputs": [
    {
     "data": {
      "text/plain": [
       "True"
      ]
     },
     "execution_count": 21,
     "metadata": {},
     "output_type": "execute_result"
    }
   ],
   "source": [
    "b = 1\n",
    "c = 2\n",
    "b <= c"
   ]
  },
  {
   "cell_type": "code",
   "execution_count": 24,
   "metadata": {},
   "outputs": [
    {
     "name": "stdout",
     "output_type": "stream",
     "text": [
      "4.0\n"
     ]
    }
   ],
   "source": [
    "# 来自圣殿的福劳特魂\n",
    "# 属性与阴特尔妖相似\n",
    "a = 3.\n",
    "b = 1\n",
    "c = a + b\n",
    "print(c)"
   ]
  },
  {
   "cell_type": "code",
   "execution_count": 32,
   "metadata": {},
   "outputs": [
    {
     "name": "stdout",
     "output_type": "stream",
     "text": [
      "3.0\n"
     ]
    }
   ],
   "source": [
    "# 它们与阴特尔妖本相隔阴阳两域\n",
    "# 有个叫派森的神使悄悄打通了深渊与圣殿\n",
    "# 留下了两个单项通道\n",
    "# 使用口诀召唤通道，就可以让阴特尔妖和福劳特魂相互转化\n",
    "a = 1.0\n",
    "b = int(a)\n",
    "\n",
    "c = 3\n",
    "d = float(c)\n",
    "\n",
    "print(d)"
   ]
  },
  {
   "cell_type": "code",
   "execution_count": 38,
   "metadata": {},
   "outputs": [],
   "source": [
    "# 最恐怖的，还是来自地狱的紫符蠢怪，由大量生物七拼八凑的它们，具有非常多的能力，派森先生用法宝压制了它们\n",
    "a = \"I'll be back\""
   ]
  },
  {
   "cell_type": "code",
   "execution_count": 49,
   "metadata": {},
   "outputs": [
    {
     "name": "stdout",
     "output_type": "stream",
     "text": [
      "True\n",
      "True\n"
     ]
    }
   ],
   "source": [
    "print(a.startswith('I'))\n",
    "print(a.endswith('k'))"
   ]
  },
  {
   "cell_type": "code",
   "execution_count": 55,
   "metadata": {},
   "outputs": [
    {
     "name": "stdout",
     "output_type": "stream",
     "text": [
      "i'll be back\n"
     ]
    }
   ],
   "source": [
    "print(a.lower())"
   ]
  },
  {
   "cell_type": "code",
   "execution_count": 62,
   "metadata": {},
   "outputs": [],
   "source": [
    "b = '我是孙悟空，我会七十二变，一个跟斗十万八千里'.split('，')"
   ]
  },
  {
   "cell_type": "code",
   "execution_count": 63,
   "metadata": {},
   "outputs": [
    {
     "data": {
      "text/plain": [
       "['我是孙悟空', '我会七十二变', '一个跟斗十万八千里']"
      ]
     },
     "execution_count": 63,
     "metadata": {},
     "output_type": "execute_result"
    }
   ],
   "source": [
    "b"
   ]
  },
  {
   "cell_type": "code",
   "execution_count": 66,
   "metadata": {},
   "outputs": [],
   "source": [
    "c = '     七十二变   '.strip()"
   ]
  },
  {
   "cell_type": "code",
   "execution_count": 67,
   "metadata": {},
   "outputs": [
    {
     "data": {
      "text/plain": [
       "'七十二变'"
      ]
     },
     "execution_count": 67,
     "metadata": {},
     "output_type": "execute_result"
    }
   ],
   "source": [
    "c"
   ]
  },
  {
   "cell_type": "code",
   "execution_count": 72,
   "metadata": {},
   "outputs": [],
   "source": [
    "d = '，'.join(['我是孙悟空', '我会七十二变', '一个跟斗十万八千里'])"
   ]
  },
  {
   "cell_type": "code",
   "execution_count": 73,
   "metadata": {},
   "outputs": [
    {
     "data": {
      "text/plain": [
       "'我是孙悟空，我会七十二变，一个跟斗十万八千里'"
      ]
     },
     "execution_count": 73,
     "metadata": {},
     "output_type": "execute_result"
    }
   ],
   "source": [
    "d"
   ]
  },
  {
   "cell_type": "code",
   "execution_count": 82,
   "metadata": {},
   "outputs": [
    {
     "data": {
      "text/plain": [
       "'我会七十二变'"
      ]
     },
     "execution_count": 82,
     "metadata": {},
     "output_type": "execute_result"
    }
   ],
   "source": [
    "# 索引 - 下标\n",
    "d[6:12]"
   ]
  },
  {
   "cell_type": "code",
   "execution_count": 89,
   "metadata": {},
   "outputs": [
    {
     "data": {
      "text/plain": [
       "False"
      ]
     },
     "execution_count": 89,
     "metadata": {},
     "output_type": "execute_result"
    }
   ],
   "source": [
    "# 不二精，也是阴阳判官\n",
    "a = (1 != 1)\n",
    "a"
   ]
  },
  {
   "cell_type": "code",
   "execution_count": 88,
   "metadata": {},
   "outputs": [
    {
     "data": {
      "text/plain": [
       "bool"
      ]
     },
     "execution_count": 88,
     "metadata": {},
     "output_type": "execute_result"
    }
   ],
   "source": [
    "type(a)"
   ]
  },
  {
   "cell_type": "markdown",
   "metadata": {},
   "source": [
    "## Day5 | 通过曲折的迷宫👨‍💻\n",
    "\n",
    "* if - elif - else\n",
    "* while\n",
    "* for ... in ...\n",
    "\n",
    "![maze](assets/maze.png)"
   ]
  },
  {
   "cell_type": "code",
   "execution_count": 11,
   "metadata": {},
   "outputs": [],
   "source": [
    "import random"
   ]
  },
  {
   "cell_type": "code",
   "execution_count": 39,
   "metadata": {},
   "outputs": [
    {
     "name": "stdout",
     "output_type": "stream",
     "text": [
      "还要继续努力\n",
      "还要继续努力\n",
      "还要继续努力\n",
      "还要继续努力\n",
      "打败第一个小妖了，可以通过！\n",
      "还要继续努力\n",
      "打败第二个小妖了，可以通过！\n",
      "还要继续努力\n",
      "还要继续努力\n",
      "打败第三个小妖了，可以通过！\n"
     ]
    }
   ],
   "source": [
    "first = 0\n",
    "while first != 1:\n",
    "    first = random.randint(0,5)\n",
    "    if first == 1:\n",
    "        print(\"打败第一个小妖了，可以通过！\")\n",
    "    else:\n",
    "        print(\"还要继续努力\")\n",
    "        \n",
    "snd = 0\n",
    "while snd != 1:\n",
    "    snd = random.randint(0,5)\n",
    "    if snd == 1:\n",
    "        print(\"打败第二个小妖了，可以通过！\")\n",
    "    else:\n",
    "        print(\"还要继续努力\")\n",
    "        \n",
    "trd = 0\n",
    "while trd != 1:\n",
    "    trd = random.randint(0,5)\n",
    "    if trd == 1:\n",
    "        print(\"打败第三个小妖了，可以通过！\")\n",
    "    else:\n",
    "        print(\"还要继续努力\")"
   ]
  },
  {
   "cell_type": "markdown",
   "metadata": {},
   "source": [
    "## Day6 | 消灭背后的势力🧛‍♀️\n",
    "\n",
    "* 变量\n",
    "* 列表、元组、字典"
   ]
  },
  {
   "cell_type": "code",
   "execution_count": 67,
   "metadata": {},
   "outputs": [],
   "source": [
    "list_1 = ['a',4,5,6,6,6,6]"
   ]
  },
  {
   "cell_type": "code",
   "execution_count": 68,
   "metadata": {},
   "outputs": [],
   "source": [
    "tuple_1 = ('b', 'c' , 'd')"
   ]
  },
  {
   "cell_type": "code",
   "execution_count": 69,
   "metadata": {},
   "outputs": [
    {
     "data": {
      "text/plain": [
       "4"
      ]
     },
     "execution_count": 69,
     "metadata": {},
     "output_type": "execute_result"
    }
   ],
   "source": [
    "list_1.count(6)"
   ]
  },
  {
   "cell_type": "code",
   "execution_count": 64,
   "metadata": {},
   "outputs": [
    {
     "data": {
      "text/plain": [
       "1"
      ]
     },
     "execution_count": 64,
     "metadata": {},
     "output_type": "execute_result"
    }
   ],
   "source": [
    "tuple_1.index('c')"
   ]
  },
  {
   "cell_type": "code",
   "execution_count": 70,
   "metadata": {},
   "outputs": [],
   "source": [
    "dict_1 = {'car1':11 , 'car2':12 , 'car3':13}"
   ]
  },
  {
   "cell_type": "code",
   "execution_count": 76,
   "metadata": {},
   "outputs": [
    {
     "data": {
      "text/plain": [
       "['car1', 'car2', 'car3']"
      ]
     },
     "execution_count": 76,
     "metadata": {},
     "output_type": "execute_result"
    }
   ],
   "source": [
    "list(dict_1.keys())"
   ]
  },
  {
   "cell_type": "code",
   "execution_count": 78,
   "metadata": {},
   "outputs": [
    {
     "data": {
      "text/plain": [
       "(11, 12, 13)"
      ]
     },
     "execution_count": 78,
     "metadata": {},
     "output_type": "execute_result"
    }
   ],
   "source": [
    "tuple(dict_1.values())"
   ]
  },
  {
   "cell_type": "code",
   "execution_count": 81,
   "metadata": {},
   "outputs": [
    {
     "name": "stdout",
     "output_type": "stream",
     "text": [
      "0\n",
      "3\n",
      "6\n",
      "9\n",
      "12\n",
      "15\n",
      "18\n",
      "21\n",
      "24\n",
      "27\n"
     ]
    }
   ],
   "source": [
    "list_2 = [0,1,2,3,4,5,6,7,8,9]\n",
    "init_a = 3\n",
    "for one in list_2:\n",
    "    new_a = init_a * one\n",
    "    print(new_a)"
   ]
  },
  {
   "cell_type": "markdown",
   "metadata": {},
   "source": [
    "## day7 | 如何升级武器💪"
   ]
  },
  {
   "cell_type": "code",
   "execution_count": 93,
   "metadata": {},
   "outputs": [
    {
     "name": "stdout",
     "output_type": "stream",
     "text": [
      "-9\n",
      "-9\n",
      "-9\n",
      "-9\n",
      "-9\n"
     ]
    }
   ],
   "source": [
    "list_a = [1,2,3,4,5]\n",
    "list_b = [11,12,13,14,15]\n",
    "init_num = 1\n",
    "\n",
    "for index in range(len(list_a)):\n",
    "    result_num = init_num + list_a[index] - list_b[index]\n",
    "    print(result_num)"
   ]
  },
  {
   "cell_type": "code",
   "execution_count": 101,
   "metadata": {},
   "outputs": [
    {
     "name": "stdout",
     "output_type": "stream",
     "text": [
      "500\n",
      "用剑攻击对方，对方生命值减少100点\n",
      "对方 hp 还剩 400\n"
     ]
    }
   ],
   "source": [
    "def sword(name, target_hp):\n",
    "    if name == 'hero':\n",
    "        target_hp -= 100\n",
    "        print(monster_hp)\n",
    "        print(\"用剑攻击对方，对方生命值减少100点\")\n",
    "        print(\"对方 hp 还剩 {}\".format(target_hp))\n",
    "        return target_hp\n",
    "    else:\n",
    "        print(\"这把剑只适配于英雄！\")\n",
    "        return target_hp\n",
    "        \n",
    "monster_hp = 500\n",
    "monster_hp = sword('hero', monster_hp)"
   ]
  },
  {
   "cell_type": "code",
   "execution_count": 102,
   "metadata": {},
   "outputs": [
    {
     "name": "stdout",
     "output_type": "stream",
     "text": [
      "这把剑只适配于英雄！\n"
     ]
    }
   ],
   "source": [
    "monster_hp = sword('monster', monster_hp)"
   ]
  },
  {
   "cell_type": "code",
   "execution_count": 103,
   "metadata": {},
   "outputs": [
    {
     "data": {
      "text/plain": [
       "400"
      ]
     },
     "execution_count": 103,
     "metadata": {},
     "output_type": "execute_result"
    }
   ],
   "source": [
    "monster_hp"
   ]
  },
  {
   "cell_type": "markdown",
   "metadata": {},
   "source": [
    "## day8 | 上帝视角的游戏👼\n",
    "\n",
    "* 悟空 VS 比克"
   ]
  },
  {
   "cell_type": "code",
   "execution_count": 131,
   "metadata": {},
   "outputs": [
    {
     "name": "stdout",
     "output_type": "stream",
     "text": [
      "悟空 使用 龟派气功 技能对 比克 造成了 467 点伤害\n",
      "比克 使用 魔贯光杀炮 技能对 悟空 造成了 426 点伤害\n",
      "悟空 使用 龟派气功 技能对 比克 造成了 428 点伤害\n",
      "比克 使用 魔贯光杀炮 技能对 悟空 造成了 444 点伤害\n",
      "悟空 使用 龟派气功 技能对 比克 造成了 114 点伤害\n",
      "比克 使用 魔贯光杀炮 技能对 悟空 造成了 180 点伤害\n",
      "悟空 使用 龟派气功 技能对 比克 造成了 144 点伤害\n",
      "比克 使用 魔贯光杀炮 技能对 悟空 造成了 403 点伤害\n",
      "悟空 使用 龟派气功 技能对 比克 造成了 465 点伤害\n",
      "比克 使用 魔贯光杀炮 技能对 悟空 造成了 276 点伤害\n",
      "悟空 使用 龟派气功 技能对 比克 造成了 171 点伤害\n",
      "比克 使用 魔贯光杀炮 技能对 悟空 造成了 226 点伤害\n",
      "悟空 使用 龟派气功 技能对 比克 造成了 178 点伤害\n",
      "比克 使用 魔贯光杀炮 技能对 悟空 造成了 110 点伤害\n",
      "比克获胜！\n"
     ]
    }
   ],
   "source": [
    "import random\n",
    "\n",
    "class 战士():\n",
    "    def __init__(self, name):\n",
    "        self.name = name\n",
    "        self.hp = 2000\n",
    "        self.death = False\n",
    "    \n",
    "    def skill(self, name, target):\n",
    "        self.skill_name = name\n",
    "        value = random.randint(100, 500)\n",
    "        target.hp -= value\n",
    "        print(\"{} 使用 {} 技能对 {} 造成了 {} 点伤害\".format(self.name, self.skill_name, target.name, value))\n",
    "        if target.hp <= 0:\n",
    "            target.death = True\n",
    "            \n",
    "char_A = 战士('悟空')\n",
    "char_B = 战士('比克')\n",
    "\n",
    "while True:\n",
    "    char_A.skill('龟派气功', char_B)\n",
    "    if char_B.death == True:\n",
    "        print(\"{}获胜！\".format(char_A.name))\n",
    "        break\n",
    "    char_B.skill('魔贯光杀炮',char_A)\n",
    "    if char_A.death == True:\n",
    "        print(\"{}获胜！\".format(char_B.name))\n",
    "        break"
   ]
  },
  {
   "cell_type": "markdown",
   "metadata": {},
   "source": [
    "# https://github.com/ccxxllhl2/yeslab"
   ]
  }
 ],
 "metadata": {
  "kernelspec": {
   "display_name": "Python 3",
   "language": "python",
   "name": "python3"
  },
  "language_info": {
   "codemirror_mode": {
    "name": "ipython",
    "version": 3
   },
   "file_extension": ".py",
   "mimetype": "text/x-python",
   "name": "python",
   "nbconvert_exporter": "python",
   "pygments_lexer": "ipython3",
   "version": "3.7.4"
  }
 },
 "nbformat": 4,
 "nbformat_minor": 2
}
