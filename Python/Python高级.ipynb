{
 "cells": [
  {
   "cell_type": "markdown",
   "metadata": {},
   "source": [
    "# Python 高级补充\n",
    "\n",
    "## 1. 内置哈希"
   ]
  },
  {
   "cell_type": "code",
   "execution_count": null,
   "metadata": {},
   "outputs": [],
   "source": [
    "a_str = 'hello yeslab!'\n",
    "a_str.__hash__()"
   ]
  },
  {
   "cell_type": "markdown",
   "metadata": {},
   "source": [
    "## 2. 生成器函数实例"
   ]
  },
  {
   "cell_type": "code",
   "execution_count": null,
   "metadata": {},
   "outputs": [],
   "source": [
    "def psychologist():\n",
    "    print(\"告诉我你心理的疑惑\")\n",
    "    while True:\n",
    "        answer = (yield)\n",
    "        if answer is not None:\n",
    "            if answer.endswith('？') or answer.endswith('?'):\n",
    "                print(\"请您不要对我提问\")\n",
    "            elif '好' in answer:\n",
    "                print(\"那太好了，请继续\")\n",
    "            elif '坏' in answer:\n",
    "                print(\"那太糟糕了，别太难过\")\n",
    "            else:\n",
    "                print(\"请继续\")"
   ]
  },
  {
   "cell_type": "code",
   "execution_count": null,
   "metadata": {},
   "outputs": [],
   "source": [
    "free = psychologist()\n",
    "next(free)"
   ]
  },
  {
   "cell_type": "code",
   "execution_count": null,
   "metadata": {},
   "outputs": [],
   "source": [
    "free.send(\"日子过得太好了\")"
   ]
  },
  {
   "cell_type": "code",
   "execution_count": null,
   "metadata": {},
   "outputs": [],
   "source": [
    "free.send(\"我干了一件坏事\")"
   ]
  },
  {
   "cell_type": "code",
   "execution_count": null,
   "metadata": {},
   "outputs": [],
   "source": [
    "free.send(\"啦啦啦\")"
   ]
  },
  {
   "cell_type": "code",
   "execution_count": null,
   "metadata": {},
   "outputs": [],
   "source": [
    "free.send(\"你知道我是谁吗？\")"
   ]
  },
  {
   "cell_type": "markdown",
   "metadata": {},
   "source": [
    "## 3. 子类化内置类以产生增强类\n",
    "\n",
    "* 示例：为字典增加值相同错误检查\n",
    "* 作用：既想要内置类效果又需要一些特殊设定"
   ]
  },
  {
   "cell_type": "code",
   "execution_count": null,
   "metadata": {},
   "outputs": [],
   "source": [
    "# 默认字典可以为不同的键添加同样的值\n",
    "\n",
    "charname = dict()\n",
    "charname['角色A'] = '阿尔萨斯的小弟'\n",
    "charname['角色B'] = '阿尔萨斯的小弟'\n",
    "charname"
   ]
  },
  {
   "cell_type": "code",
   "execution_count": null,
   "metadata": {},
   "outputs": [],
   "source": [
    "# 以下增强字典类就可以解决这个问题\n",
    "\n",
    "class DictSameValueError(ValueError):\n",
    "    \"角色名称相同！请修改！\"\n",
    "    \n",
    "class v_dict(dict):\n",
    "    def __setitem__(self, key, value):\n",
    "        if value in self.values():\n",
    "            raise DictSameValueError(\"角色名称相同！请修改！\")\n",
    "        super().__setitem__(key, value)\n",
    "        \n",
    "new_charname = v_dict()\n",
    "new_charname['角色A'] = '阿尔萨斯的小弟'\n",
    "new_charname['角色B'] = '阿尔萨斯的小弟'"
   ]
  },
  {
   "cell_type": "markdown",
   "metadata": {},
   "source": [
    "## 4. 类的几种方法比较"
   ]
  },
  {
   "cell_type": "code",
   "execution_count": null,
   "metadata": {},
   "outputs": [],
   "source": [
    "class ONE():\n",
    "    \n",
    "    pos = (3,3)\n",
    "    \n",
    "    def __init__(self):\n",
    "        self.pos = (5,5)\n",
    "    \n",
    "    def norm_func(self):\n",
    "        print(self.pos)\n",
    "        \n",
    "    @classmethod\n",
    "    def class_func(cls):\n",
    "        print(cls.pos)\n",
    "        \n",
    "    @staticmethod\n",
    "    def static_func(pos):\n",
    "        print(pos)\n",
    "        \n",
    "one = ONE()\n",
    "print(one.pos)\n",
    "one.pos = (10,10)\n",
    "print(one.pos)"
   ]
  },
  {
   "cell_type": "code",
   "execution_count": null,
   "metadata": {},
   "outputs": [],
   "source": [
    "#one.norm_func()\n",
    "#one.class_func()\n",
    "one.static_func((4,4))"
   ]
  },
  {
   "cell_type": "code",
   "execution_count": null,
   "metadata": {},
   "outputs": [],
   "source": [
    "#ONE.norm_func()\n",
    "#ONE.class_func()\n",
    "ONE.static_func((4,4))"
   ]
  },
  {
   "cell_type": "markdown",
   "metadata": {},
   "source": [
    "## 5. 可变参数"
   ]
  },
  {
   "cell_type": "code",
   "execution_count": null,
   "metadata": {},
   "outputs": [],
   "source": [
    "def study(*args):\n",
    "    print(args)\n",
    "\n",
    "study('Python','DNA','NetDevOps')"
   ]
  },
  {
   "cell_type": "code",
   "execution_count": null,
   "metadata": {},
   "outputs": [],
   "source": [
    "def play(**kwargs):\n",
    "    print(kwargs)\n",
    "    \n",
    "play(steam='绝地求生', epic='僵尸世界大战', BN='魔兽世界', uplay='全境封锁')"
   ]
  },
  {
   "cell_type": "code",
   "execution_count": null,
   "metadata": {},
   "outputs": [],
   "source": [
    "def calc_num(a, b, c, *args, **kwargs):\n",
    "    print(a,b,c)\n",
    "    print(args)\n",
    "    print(kwargs)\n",
    "    \n",
    "calc_num(1,2,3,4,5,6,7,8,9,z1=10,z2=11,z3=12)"
   ]
  }
 ],
 "metadata": {
  "kernelspec": {
   "display_name": "Python 3",
   "language": "python",
   "name": "python3"
  },
  "language_info": {
   "codemirror_mode": {
    "name": "ipython",
    "version": 3
   },
   "file_extension": ".py",
   "mimetype": "text/x-python",
   "name": "python",
   "nbconvert_exporter": "python",
   "pygments_lexer": "ipython3",
   "version": "3.7.4"
  }
 },
 "nbformat": 4,
 "nbformat_minor": 2
}
