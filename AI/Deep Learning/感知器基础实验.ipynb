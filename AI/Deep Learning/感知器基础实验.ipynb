{
 "cells": [
  {
   "cell_type": "markdown",
   "metadata": {},
   "source": [
    "## 感知器基础实验\n",
    "* 本实验为理论课程中的感知器实验\n",
    "* 基础的感知器模型\n",
    "* 与理论课中相同的数据\n",
    "* 实验任务为数据分析的子任务——数据分类\n",
    "* 配合画图函数进行图像展示\n",
    "\n",
    "![61_robot](pic/61_robot.png)"
   ]
  },
  {
   "cell_type": "markdown",
   "metadata": {},
   "source": [
    "### 创建数据"
   ]
  },
  {
   "cell_type": "code",
   "execution_count": null,
   "metadata": {},
   "outputs": [],
   "source": [
    "import numpy as np\n",
    "import matplotlib.pyplot as plt"
   ]
  },
  {
   "cell_type": "code",
   "execution_count": null,
   "metadata": {
    "scrolled": true
   },
   "outputs": [],
   "source": [
    "datas = np.array([[1,0],[0,1],[0.5,1]])\n",
    "labels = [1,0,0]"
   ]
  },
  {
   "cell_type": "markdown",
   "metadata": {},
   "source": [
    "### 建立绘图函数"
   ]
  },
  {
   "cell_type": "code",
   "execution_count": null,
   "metadata": {},
   "outputs": [],
   "source": [
    "def plot(datas, labels, w1=0, w2=0, theta=0):\n",
    "    # 设置坐标系\n",
    "    #plt.xlim((0,1)) # 让坐标系维持在(0,1)范围\n",
    "    #plt.ylim((0,1))\n",
    "    plt.xlabel('x1') # 为坐标系的两个轴创建名称\n",
    "    plt.ylabel('x2')\n",
    "    \n",
    "    # 画数据点\n",
    "    A = [] # 存放 0 类型\n",
    "    B = [] # 存放 1 类型\n",
    "    for index in range(len(labels)):\n",
    "        if labels[index] == 0:\n",
    "            A.append(datas[index])\n",
    "        else:\n",
    "            B.append(datas[index])\n",
    "    A = np.array(A)\n",
    "    B = np.array(B)\n",
    "    plt.plot(A[:,0],A[:,1],'r*')\n",
    "    plt.plot(B[:,0],B[:,1],'bD')\n",
    "    \n",
    "    # 如果权值不全是初始值0，就画决策函数线\n",
    "    if (w1!=0 or w2!=0):\n",
    "        print('OK')\n",
    "        x1 = np.linspace(0,1,200)\n",
    "        if w2 == 0:\n",
    "            x2 = 0 * x1\n",
    "        else:\n",
    "            x2 = (- w1*x1 + theta) / w2\n",
    "        plt.plot(x1, x2, 'g-', lw=5)\n",
    "    plt.show()\n",
    "\n",
    "# 执行函数，画出数据点\n",
    "plot(datas, labels)"
   ]
  },
  {
   "cell_type": "markdown",
   "metadata": {},
   "source": [
    "### 创建模型\n",
    "* 设定超参数\n",
    "* 创建模型\n",
    "* 训练\n",
    "* 测试\n",
    "\n",
    "![61_perception](pic/61_perception.png)"
   ]
  },
  {
   "cell_type": "code",
   "execution_count": null,
   "metadata": {},
   "outputs": [],
   "source": [
    "# 设定自由参数初始值\n",
    "w1 = 0\n",
    "w2 = 0\n",
    "theta = 0\n",
    "lr = 1\n",
    "epochs = 3\n",
    "\n",
    "# 一共训练 epochs 个迭代\n",
    "for _ in range(epochs):\n",
    "    \n",
    "    # 每次处理一个数据点\n",
    "    for index in range(datas.shape[0]):\n",
    "        \n",
    "        # 拿到当前训练数据与标签\n",
    "        x = datas[index]\n",
    "        y_ = labels[index]\n",
    "        \n",
    "        # 计算净输入 net\n",
    "        net = w1*x[0] + w2*x[1] - theta\n",
    "        \n",
    "        # 激活函数：单位阶跃函数\n",
    "        if net >= 0:\n",
    "            y = 1\n",
    "        elif net < 0:\n",
    "            y = 0\n",
    "            \n",
    "        # 判断结果，完成自由参数的更新\n",
    "        if y == 0 and y_ == 1:\n",
    "            w1 = w1 + lr * x[0]\n",
    "            w2 = w2 + lr * x[1]\n",
    "            theta -= lr\n",
    "        elif y == 1 and y_ == 0:\n",
    "            w1 = w1 - lr * x[0]\n",
    "            w2 = w2 - lr * x[1]\n",
    "            theta += lr\n",
    "            \n",
    "        # 输出结果值\n",
    "        print(\"感知器计算结果\",y)\n",
    "        print(\"正确结果\", y_)\n",
    "        print(\"w目前更新为：\",int(w1), int(w2), int(theta))\n",
    "        \n",
    "        # 画图\n",
    "        plot(datas, labels, w1, w2, theta)\n",
    "    \n",
    "print(\"感知器训练结束！\")"
   ]
  },
  {
   "cell_type": "code",
   "execution_count": null,
   "metadata": {},
   "outputs": [],
   "source": []
  }
 ],
 "metadata": {
  "kernelspec": {
   "display_name": "Python 3",
   "language": "python",
   "name": "python3"
  },
  "language_info": {
   "codemirror_mode": {
    "name": "ipython",
    "version": 3
   },
   "file_extension": ".py",
   "mimetype": "text/x-python",
   "name": "python",
   "nbconvert_exporter": "python",
   "pygments_lexer": "ipython3",
   "version": "3.6.5"
  }
 },
 "nbformat": 4,
 "nbformat_minor": 2
}
