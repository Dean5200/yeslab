{
 "cells": [
  {
   "cell_type": "markdown",
   "metadata": {},
   "source": [
    "## 感知器高级实验\n",
    "* 改造基础实验\n",
    "* 数据自由生成\n",
    "* 独立的激活函数定义\n",
    "* 用类重写感知器\n",
    "\n",
    "![61_robot](pic/61_robot.png)"
   ]
  },
  {
   "cell_type": "markdown",
   "metadata": {},
   "source": [
    "### 创建数据"
   ]
  },
  {
   "cell_type": "code",
   "execution_count": null,
   "metadata": {},
   "outputs": [],
   "source": [
    "import numpy as np\n",
    "import matplotlib.pyplot as plt"
   ]
  },
  {
   "cell_type": "code",
   "execution_count": null,
   "metadata": {
    "scrolled": true
   },
   "outputs": [],
   "source": [
    "def create_data(data_num):\n",
    "    data = []\n",
    "    label = []\n",
    "    for num in range(data_num):\n",
    "        one_data = np.random.random((1,2)).tolist()\n",
    "        data.append(one_data[0])\n",
    "        if one_data[0][0] >= one_data[0][1]:\n",
    "            label.append(1)\n",
    "        else:\n",
    "            label.append(0)\n",
    "    return np.array(data), label\n",
    "\n",
    "datas, labels = create_data(10)"
   ]
  },
  {
   "cell_type": "markdown",
   "metadata": {},
   "source": [
    "### 建立绘图函数"
   ]
  },
  {
   "cell_type": "code",
   "execution_count": null,
   "metadata": {},
   "outputs": [],
   "source": [
    "def plot_fun(datas, labels, w1=0, w2=0, theta=0):\n",
    "    # 设置坐标系\n",
    "    plt.xlim((0,1)) # 让坐标系维持在(0,1)范围\n",
    "    plt.ylim((0,1))\n",
    "    plt.xlabel('x1') # 为坐标系的两个轴创建名称\n",
    "    plt.ylabel('x2')\n",
    "    \n",
    "    # 画数据点\n",
    "    A = [] # 存放 0 类型\n",
    "    B = [] # 存放 1 类型\n",
    "    for index in range(len(labels)):\n",
    "        if labels[index] == 0:\n",
    "            A.append(datas[index])\n",
    "        else:\n",
    "            B.append(datas[index])\n",
    "    A = np.array(A)\n",
    "    B = np.array(B)\n",
    "    plt.plot(A[:,0],A[:,1],'r*')\n",
    "    plt.plot(B[:,0],B[:,1],'bD')\n",
    "    \n",
    "    # 如果权值不全是初始值0，就画决策函数线\n",
    "    if (w1!=0 or w2!=0):\n",
    "        print('OK')\n",
    "        x1 = np.linspace(0,1,200)\n",
    "        if w2 == 0:\n",
    "            x2 = 0 * x1\n",
    "        else:\n",
    "            x2 = (- w1*x1 + theta) / w2\n",
    "        plt.plot(x1, x2, 'g-', lw=5)\n",
    "    plt.show()\n"
   ]
  },
  {
   "cell_type": "markdown",
   "metadata": {},
   "source": [
    "### 创建模型\n",
    "* 设置超参数\n",
    "* 创建感知器类\n",
    "* 创建激活函数\n",
    "* 创建训练函数\n",
    "* 创建绘图函数\n",
    "\n",
    "![61_perception](pic/61_perception.png)\n",
    "\n",
    "#### 设置超参数"
   ]
  },
  {
   "cell_type": "code",
   "execution_count": null,
   "metadata": {},
   "outputs": [],
   "source": [
    "lr = 1\n",
    "epochs = 3"
   ]
  },
  {
   "cell_type": "markdown",
   "metadata": {},
   "source": [
    "#### 创建感知器"
   ]
  },
  {
   "cell_type": "code",
   "execution_count": null,
   "metadata": {},
   "outputs": [],
   "source": [
    "class perception():\n",
    "    \n",
    "    def __init__(self, datas, labels, w1=0, w2=0, theta=0):\n",
    "        self.datas = datas\n",
    "        self.labels = labels\n",
    "        self.w1 = w1\n",
    "        self.w2 = w2\n",
    "        self.theta = theta\n",
    "    \n",
    "    def active_fun(self, net):\n",
    "        if net >= 0:\n",
    "            y = 1\n",
    "        elif net < 0:\n",
    "            y = 0\n",
    "        return y\n",
    "    \n",
    "    def model(self, x, y_):\n",
    "        net = self.w1 * x[0] + self.w2 * x[1] - self.theta\n",
    "        y = self.active_fun(net)\n",
    "        if y == 0 and y_ == 1:\n",
    "            self.w1 = self.w1 + lr * x[0]\n",
    "            self.w2 = self.w2 + lr * x[1]\n",
    "            self.theta -= lr\n",
    "        elif y == 1 and y_ == 0:\n",
    "            self.w1 = self.w1 - lr * x[0]\n",
    "            self.w2 = self.w2 - lr * x[1]\n",
    "            self.theta += lr\n",
    "        return y, y_\n",
    "    \n",
    "    def plot(self):\n",
    "        return plot_fun(self.datas, self.labels, self.w1, self.w2, self.theta)\n",
    "            \n",
    "    def train(self):\n",
    "        for epoch in range(epochs):\n",
    "            for index in range(datas.shape[0]):\n",
    "                y, y_ = self.model(datas[index], labels[index])\n",
    "                self.plot()\n",
    "                print(\"感知器计算结果\",y)\n",
    "                print(\"正确结果\", y_)\n",
    "                print(\"w目前更新为：\",self.w1, self.w2, self.theta)"
   ]
  },
  {
   "cell_type": "markdown",
   "metadata": {},
   "source": [
    "### 运行"
   ]
  },
  {
   "cell_type": "code",
   "execution_count": null,
   "metadata": {},
   "outputs": [],
   "source": [
    "network = perception(datas, labels)\n",
    "network.train()"
   ]
  }
 ],
 "metadata": {
  "kernelspec": {
   "display_name": "Python 3",
   "language": "python",
   "name": "python3"
  },
  "language_info": {
   "codemirror_mode": {
    "name": "ipython",
    "version": 3
   },
   "file_extension": ".py",
   "mimetype": "text/x-python",
   "name": "python",
   "nbconvert_exporter": "python",
   "pygments_lexer": "ipython3",
   "version": "3.6.5"
  }
 },
 "nbformat": 4,
 "nbformat_minor": 2
}
