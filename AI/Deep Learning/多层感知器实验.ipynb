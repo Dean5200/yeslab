{
 "cells": [
  {
   "cell_type": "markdown",
   "metadata": {},
   "source": [
    "## 多层感知器实验\n",
    "* 实验单层感知器XOR问题\n",
    "* 解决多层感知器XOR问题"
   ]
  },
  {
   "cell_type": "code",
   "execution_count": null,
   "metadata": {},
   "outputs": [],
   "source": [
    "import numpy as np\n",
    "import matplotlib.pyplot as plt"
   ]
  },
  {
   "cell_type": "markdown",
   "metadata": {},
   "source": [
    "### 创建XOR数据"
   ]
  },
  {
   "cell_type": "code",
   "execution_count": null,
   "metadata": {
    "scrolled": true
   },
   "outputs": [],
   "source": [
    "datas = np.array([[0,0],[1,1],[0,1],[1,0]])\n",
    "labels = [1,1,0,0]"
   ]
  },
  {
   "cell_type": "markdown",
   "metadata": {},
   "source": [
    "### 建立绘图函数"
   ]
  },
  {
   "cell_type": "code",
   "execution_count": null,
   "metadata": {
    "scrolled": true
   },
   "outputs": [],
   "source": [
    "def plot_fun(datas, labels, w1=0, w2=0, theta=0):\n",
    "    # 设置坐标系\n",
    "    plt.xlim((-1,1.5)) # 让坐标系维持在(0,2)范围\n",
    "    plt.ylim((-1,1.5))\n",
    "    plt.xlabel('x1') # 为坐标系的两个轴创建名称\n",
    "    plt.ylabel('x2')\n",
    "    \n",
    "    # 画数据点\n",
    "    A = [] # 存放 0 类型\n",
    "    B = [] # 存放 1 类型\n",
    "    for index in range(len(labels)):\n",
    "        if labels[index] == 0:\n",
    "            A.append(datas[index])\n",
    "        else:\n",
    "            B.append(datas[index])\n",
    "    A = np.array(A)\n",
    "    B = np.array(B)\n",
    "    plt.plot(A[:,0],A[:,1],'r*')\n",
    "    plt.plot(B[:,0],B[:,1],'bD')\n",
    "    \n",
    "    # 如果权值不全是初始值0，就画决策函数线\n",
    "    if (w1!=0 or w2!=0):\n",
    "        print('OK')\n",
    "        x1 = np.linspace(0,1,200)\n",
    "        if w2 == 0:\n",
    "            x2 = 0 * x1\n",
    "        else:\n",
    "            x2 = (- w1*x1 + theta) / w2\n",
    "        plt.plot(x1, x2, 'g-', lw=5)\n",
    "    plt.show()"
   ]
  },
  {
   "cell_type": "markdown",
   "metadata": {},
   "source": [
    "### 设定超参"
   ]
  },
  {
   "cell_type": "code",
   "execution_count": null,
   "metadata": {},
   "outputs": [],
   "source": [
    "lr = 1.0\n",
    "epochs = 3"
   ]
  },
  {
   "cell_type": "markdown",
   "metadata": {},
   "source": [
    "## 单层感知器\n",
    "\n",
    "### 创建单层感知器模型\n",
    "* 设定超参数\n",
    "* 创建模型\n",
    "* 训练\n",
    "* 测试"
   ]
  },
  {
   "cell_type": "code",
   "execution_count": null,
   "metadata": {},
   "outputs": [],
   "source": [
    "class perception():\n",
    "    \n",
    "    def __init__(self, datas, labels, w1=0, w2=0, theta=0):\n",
    "        self.datas = datas\n",
    "        self.labels = labels\n",
    "        self.w1 = w1\n",
    "        self.w2 = w2\n",
    "        self.theta = theta\n",
    "    \n",
    "    def active_fun(self, net):\n",
    "        if net >= 0:\n",
    "            y = 1\n",
    "        elif net < 0:\n",
    "            y = 0\n",
    "        return y\n",
    "    \n",
    "    def model(self, x, y_):\n",
    "        net = self.w1 * x[0] + self.w2 * x[1] - self.theta\n",
    "        y = self.active_fun(net)\n",
    "        if y == 0 and y_ == 1:\n",
    "            self.w1 = self.w1 + lr * x[0]\n",
    "            self.w2 = self.w2 + lr * x[1]\n",
    "            self.theta -= lr\n",
    "        elif y == 1 and y_ == 0:\n",
    "            self.w1 = self.w1 - lr * x[0]\n",
    "            self.w2 = self.w2 - lr * x[1]\n",
    "            self.theta += lr\n",
    "        return y, y_\n",
    "    \n",
    "    def plot(self):\n",
    "        return plot_fun(self.datas, self.labels, self.w1, self.w2, self.theta)\n",
    "            \n",
    "    def train(self):\n",
    "        for epoch in range(epochs):\n",
    "            for index in range(datas.shape[0]):\n",
    "                y, y_ = self.model(datas[index], labels[index])\n",
    "                self.plot()\n",
    "                print(\"感知器计算结果\",y)\n",
    "                print(\"正确结果\", y_)\n",
    "                print(\"w目前更新为：\",self.w1, self.w2, self.theta)"
   ]
  },
  {
   "cell_type": "markdown",
   "metadata": {},
   "source": [
    "### 运行单层感知器模型"
   ]
  },
  {
   "cell_type": "code",
   "execution_count": null,
   "metadata": {},
   "outputs": [],
   "source": [
    "network = perception(datas, labels)\n",
    "network.train()"
   ]
  },
  {
   "cell_type": "markdown",
   "metadata": {},
   "source": [
    "## 多层感知器\n",
    "\n",
    "![mlp](pic/mlp.png)\n",
    "\n",
    "### 创建多层感知器模型\n",
    "* A,B为隐藏层神经元，C为输出层神经元\n",
    "* Sigmoid 激活函数\n",
    "* 让我们试试 Tensorflow 吧\n",
    "* Tensorflow 的安装命令： pip install tensorflow\n",
    "\n",
    "![sigmoid](pic/sigmoid.png)"
   ]
  },
  {
   "cell_type": "code",
   "execution_count": null,
   "metadata": {},
   "outputs": [],
   "source": [
    "import tensorflow as tf\n",
    "np.set_printoptions(suppress=True) \n",
    "\n",
    "datas = np.array([[0.0,0.0],[1.0,1.0],[0.0,1.0],[1.0,0.0]], dtype=np.float32)\n",
    "labels = np.array([[1.0],[1.0],[0.0],[0.0]], dtype=np.float32)"
   ]
  },
  {
   "cell_type": "markdown",
   "metadata": {},
   "source": [
    "### 设置参数"
   ]
  },
  {
   "cell_type": "code",
   "execution_count": null,
   "metadata": {},
   "outputs": [],
   "source": [
    "input_num = 2\n",
    "h1_num = 4\n",
    "label_num = 1\n",
    "epoch = 100\n",
    "\n",
    "W1 = tf.Variable(tf.truncated_normal([input_num, h1_num]))\n",
    "W2 = tf.Variable(tf.truncated_normal([h1_num,label_num]))\n",
    "B1 = tf.Variable(tf.truncated_normal([h1_num]))\n",
    "B2 = tf.Variable(tf.truncated_normal([label_num]))\n",
    "x  = tf.placeholder(tf.float32, [None, input_num])\n",
    "y_ = tf.placeholder(tf.float32, [None, label_num])"
   ]
  },
  {
   "cell_type": "markdown",
   "metadata": {},
   "source": [
    "### 使用 Tensorflow 编写模型"
   ]
  },
  {
   "cell_type": "code",
   "execution_count": null,
   "metadata": {},
   "outputs": [],
   "source": [
    "# 正向传播\n",
    "hidden1 = tf.sigmoid(tf.matmul(x, W1) + B1)\n",
    "logits = tf.sigmoid(tf.matmul(hidden1, W2) + B2)\n",
    "\n",
    "# 反向传播\n",
    "loss = tf.losses.absolute_difference(labels=y_, predictions=logits)\n",
    "train_step = tf.train.AdamOptimizer(0.1).minimize(loss)"
   ]
  },
  {
   "cell_type": "markdown",
   "metadata": {},
   "source": [
    "### 训练"
   ]
  },
  {
   "cell_type": "code",
   "execution_count": null,
   "metadata": {},
   "outputs": [],
   "source": [
    "with tf.Session() as sess:\n",
    "    tf.global_variables_initializer().run()\n",
    "    for _ in range(epoch):\n",
    "        _, output_, loss_, W1_, W2_ = sess.run([train_step, logits, loss, W1, W2], feed_dict={x: datas, y_: labels})\n",
    "    print(output_, loss_)"
   ]
  }
 ],
 "metadata": {
  "kernelspec": {
   "display_name": "Python 3",
   "language": "python",
   "name": "python3"
  },
  "language_info": {
   "codemirror_mode": {
    "name": "ipython",
    "version": 3
   },
   "file_extension": ".py",
   "mimetype": "text/x-python",
   "name": "python",
   "nbconvert_exporter": "python",
   "pygments_lexer": "ipython3",
   "version": "3.6.5"
  }
 },
 "nbformat": 4,
 "nbformat_minor": 2
}
