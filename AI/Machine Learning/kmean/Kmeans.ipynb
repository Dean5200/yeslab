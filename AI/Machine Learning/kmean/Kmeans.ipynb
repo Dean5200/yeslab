{
 "cells": [
  {
   "cell_type": "markdown",
   "metadata": {},
   "source": [
    "# 非监督聚类：Kmeans"
   ]
  },
  {
   "cell_type": "code",
   "execution_count": 18,
   "metadata": {
    "collapsed": true
   },
   "outputs": [],
   "source": [
    "import numpy as np\n",
    "from sklearn.cluster import KMeans\n",
    "from sklearn import datasets\n",
    "import matplotlib.pyplot as plt"
   ]
  },
  {
   "cell_type": "code",
   "execution_count": 74,
   "metadata": {
    "collapsed": true
   },
   "outputs": [],
   "source": [
    "iris = datasets.load_iris()\n",
    "train_x = iris.data[0:120]\n",
    "train_y = iris.target[0:120]\n",
    "test_x = iris.data[120:]\n",
    "test_y = iris.target[120:]\n",
    "\n",
    "def create_plt_data(y):\n",
    "    class_a = []\n",
    "    class_b = []\n",
    "    class_c = []\n",
    "    for index in range(train_x.shape[0]):\n",
    "        try:\n",
    "            if y[index] == 0:\n",
    "                class_a.append(train_x[index])\n",
    "            elif y[index] == 1:\n",
    "                class_b.append(train_x[index])\n",
    "            elif y[index] == 2:\n",
    "                class_c.append(train_x[index])\n",
    "        except:\n",
    "            print(\"Data has error.\")\n",
    "    return class_a, class_b, class_c"
   ]
  },
  {
   "cell_type": "code",
   "execution_count": 71,
   "metadata": {
    "collapsed": true
   },
   "outputs": [],
   "source": [
    "kmean = KMeans(n_clusters=3, random_state=0).fit(train_x)\n",
    "train_result = kmean.predict(train_x)\n",
    "test_result = kmean.predict(test_x)"
   ]
  },
  {
   "cell_type": "markdown",
   "metadata": {},
   "source": [
    "## 使用原数据标签进行分色绘图"
   ]
  },
  {
   "cell_type": "code",
   "execution_count": 75,
   "metadata": {
    "collapsed": false
   },
   "outputs": [
    {
     "data": {
      "image/png": "[encoded data removed]",
      "text/plain": [
       "<matplotlib.figure.Figure at 0x27005cb6b38>"
      ]
     },
     "metadata": {},
     "output_type": "display_data"
    }
   ],
   "source": [
    "class_a, class_b, class_c = create_plt_data(train_y)\n",
    "a_var, a_mean = np.var(class_a,axis=1), np.mean(class_a,axis=1)\n",
    "b_var, b_mean = np.var(class_b,axis=1), np.mean(class_b,axis=1)\n",
    "c_var, c_mean = np.var(class_c,axis=1), np.mean(class_c,axis=1)\n",
    "plt.plot(a_var, a_mean, 'or')\n",
    "plt.plot(b_var, b_mean, 'og')\n",
    "plt.plot(c_var, c_mean, 'ob')\n",
    "plt.show()"
   ]
  },
  {
   "cell_type": "markdown",
   "metadata": {},
   "source": [
    "### 使用 Kmeans 分类后的标签进行分色绘图"
   ]
  },
  {
   "cell_type": "code",
   "execution_count": 76,
   "metadata": {
    "collapsed": false,
    "scrolled": true
   },
   "outputs": [
    {
     "data": {
      "image/png": "[encoded data removed]",
      "text/plain": [
       "<matplotlib.figure.Figure at 0x27005d6cf98>"
      ]
     },
     "metadata": {},
     "output_type": "display_data"
    }
   ],
   "source": [
    "class_a, class_b, class_c = create_plt_data(train_result)\n",
    "a_var, a_mean = np.var(class_a,axis=1), np.mean(class_a,axis=1)\n",
    "b_var, b_mean = np.var(class_b,axis=1), np.mean(class_b,axis=1)\n",
    "c_var, c_mean = np.var(class_c,axis=1), np.mean(class_c,axis=1)\n",
    "plt.plot(a_var, a_mean, 'or')\n",
    "plt.plot(b_var, b_mean, 'og')\n",
    "plt.plot(c_var, c_mean, 'ob')\n",
    "plt.show()"
   ]
  },
  {
   "cell_type": "markdown",
   "metadata": {},
   "source": [
    "# 实战图像分割"
   ]
  },
  {
   "cell_type": "code",
   "execution_count": 1,
   "metadata": {
    "collapsed": true
   },
   "outputs": [],
   "source": [
    "import cv2\n",
    "import numpy as np\n",
    "from sklearn.cluster import KMeans\n",
    "import matplotlib.pyplot as plt"
   ]
  },
  {
   "cell_type": "code",
   "execution_count": 2,
   "metadata": {
    "collapsed": true
   },
   "outputs": [],
   "source": [
    "def load_img(path):\n",
    "    image_file = cv2.imread(path)\n",
    "    w,h,d = (image_file.shape)\n",
    "    image = image_file.reshape(w*h , d)\n",
    "    return w, h, d, image"
   ]
  },
  {
   "cell_type": "code",
   "execution_count": 3,
   "metadata": {
    "collapsed": true
   },
   "outputs": [],
   "source": [
    "def model(data, cluster_num, epoch):\n",
    "    kmean = KMeans(n_clusters=cluster_num, random_state=0, max_iter=epoch).fit(data)\n",
    "    labels = kmean.predict(data)\n",
    "    return kmean, labels"
   ]
  },
  {
   "cell_type": "code",
   "execution_count": 97,
   "metadata": {
    "collapsed": true
   },
   "outputs": [],
   "source": [
    "def recreate_image(kmean, labels, w, h, d):\n",
    "    new_image = np.zeros((w, h, d))\n",
    "    label_idx = 0\n",
    "    for i in range(w):\n",
    "        for j in range(h):\n",
    "            new_image[i][j] = kmean[labels[label_idx]]\n",
    "            label_idx += 1\n",
    "    return new_image"
   ]
  },
  {
   "cell_type": "code",
   "execution_count": 5,
   "metadata": {
    "collapsed": true
   },
   "outputs": [],
   "source": [
    "def show_img(result):\n",
    "    plt.imshow(result)\n",
    "    plt.show()"
   ]
  },
  {
   "cell_type": "code",
   "execution_count": 84,
   "metadata": {
    "collapsed": true
   },
   "outputs": [],
   "source": [
    "def main(img_path, cluster_num, epoch):\n",
    "    w, h, d, data = load_img(img_path)\n",
    "    kmean, labels = model(data, cluster_num, epoch)\n",
    "    result = recreate_image(kmean.cluster_centers_, labels, w, h, d)\n",
    "    show_img(result)"
   ]
  },
  {
   "cell_type": "code",
   "execution_count": 99,
   "metadata": {
    "collapsed": true
   },
   "outputs": [],
   "source": [
    "img = 'pic/kmean_test.jpg'\n",
    "\n",
    "cluster_num = 7\n",
    "epoch = 500"
   ]
  },
  {
   "cell_type": "code",
   "execution_count": 100,
   "metadata": {
    "collapsed": false
   },
   "outputs": [
    {
     "data": {
      "image/png": "[encoded data removed]",
      "text/plain": [
       "<matplotlib.figure.Figure at 0x27005e04278>"
      ]
     },
     "metadata": {},
     "output_type": "display_data"
    }
   ],
   "source": [
    "main(img, cluster_num, epoch)"
   ]
  }
 ],
 "metadata": {
  "kernelspec": {
   "display_name": "Python 3",
   "language": "python",
   "name": "python3"
  },
  "language_info": {
   "codemirror_mode": {
    "name": "ipython",
    "version": 3
   },
   "file_extension": ".py",
   "mimetype": "text/x-python",
   "name": "python",
   "nbconvert_exporter": "python",
   "pygments_lexer": "ipython3",
   "version": "3.6.0"
  }
 },
 "nbformat": 4,
 "nbformat_minor": 2
}
