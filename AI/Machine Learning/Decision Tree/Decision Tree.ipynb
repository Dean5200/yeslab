{
 "cells": [
  {
   "cell_type": "markdown",
   "metadata": {},
   "source": [
    "# 决策树\n",
    "* 决策树（Decision Tree）为树结构算法，属于监督学习算法，对于给定的训练数据，建立树结构模型并拟合数据，用训练好的树可以识别未知数据，为未知数据分类\n",
    "* 基尼不纯度与信息熵：描述决策树系统的混乱性\n",
    "* 从决策树发展而来的算法有：Random Forest，GBDT，XGBOOST\n",
    "* 源数据[点击这里](http://archive.ics.uci.edu/ml/machine-learning-databases/lenses/)\n",
    "* sklearn中决策树API说明[点击这里](http://scikit-learn.org/stable/modules/generated/sklearn.tree.DecisionTreeClassifier.html)\n",
    "* 可视化软件安装Graphviz[点击这里](http://www.graphviz.org/download/)\n",
    "* Graphviz安装后需添加bin目录至环境变量path，添加完成后关闭所有CMD命令行，并重新开启命令行"
   ]
  },
  {
   "cell_type": "code",
   "execution_count": 34,
   "metadata": {},
   "outputs": [],
   "source": [
    "import numpy as np\n",
    "import sklearn.tree as tree\n",
    "import sklearn\n",
    "import pydot"
   ]
  },
  {
   "cell_type": "markdown",
   "metadata": {},
   "source": [
    "## 读入数据，划分数据集"
   ]
  },
  {
   "cell_type": "code",
   "execution_count": 30,
   "metadata": {},
   "outputs": [],
   "source": [
    "file = open('data\\\\lenses.data','r')\n",
    "datas = file.readlines()\n",
    "X = []\n",
    "Y = []\n",
    "for data in datas:\n",
    "    data_list = data.split()\n",
    "    X.append(data_list[1:5])\n",
    "    Y.append(data_list[5])\n",
    "train_X, train_Y, test_X, test_Y = np.array(X[0:20]), np.array(Y[0:20]), np.array(X[20:]), np.array(Y[20:])"
   ]
  },
  {
   "cell_type": "markdown",
   "metadata": {},
   "source": [
    "## 建立模型，进行训练"
   ]
  },
  {
   "cell_type": "code",
   "execution_count": 43,
   "metadata": {},
   "outputs": [],
   "source": [
    "my_tree = tree.DecisionTreeClassifier()\n",
    "model = my_tree.fit(train_X, train_Y)\n",
    "dot_file = sklearn.externals.six.StringIO()\n",
    "tree.export_graphviz(model, out_file=dot_file,\n",
    "                        feature_names=['age', 'prescription', 'astigmatic', 'tear_rate'],\n",
    "                        class_names=['hard','soft','no'])\n",
    "graph = pydot.graph_from_dot_data(dot_file.getvalue())\n",
    "graph[0].write_pdf('result\\\\my_tree.pdf')"
   ]
  },
  {
   "cell_type": "markdown",
   "metadata": {},
   "source": [
    "## 测试结果"
   ]
  },
  {
   "cell_type": "code",
   "execution_count": 40,
   "metadata": {},
   "outputs": [
    {
     "data": {
      "text/plain": [
       "0.75"
      ]
     },
     "execution_count": 40,
     "metadata": {},
     "output_type": "execute_result"
    }
   ],
   "source": [
    "test = model.predict(test_X)\n",
    "result = model.score(test_X, test_Y)\n",
    "result"
   ]
  },
  {
   "cell_type": "markdown",
   "metadata": {},
   "source": [
    "# 挑战项目\n",
    "* 可以挑战一下[这个数据](http://archive.ics.uci.edu/ml/datasets/Car+Evaluation)\n",
    "* 或者自行挑选数据，从[UCI_ML](http://archive.ics.uci.edu/ml/datasets.html)\n",
    "* 作业完成后不要忘记在微信群里晒晒你的决策树！"
   ]
  }
 ],
 "metadata": {
  "kernelspec": {
   "display_name": "Python 3",
   "language": "python",
   "name": "python3"
  },
  "language_info": {
   "codemirror_mode": {
    "name": "ipython",
    "version": 3
   },
   "file_extension": ".py",
   "mimetype": "text/x-python",
   "name": "python",
   "nbconvert_exporter": "python",
   "pygments_lexer": "ipython3",
   "version": "3.6.5"
  }
 },
 "nbformat": 4,
 "nbformat_minor": 2
}
